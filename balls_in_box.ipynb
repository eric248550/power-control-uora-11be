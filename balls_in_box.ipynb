{
 "cells": [
  {
   "cell_type": "markdown",
   "id": "f687718a",
   "metadata": {},
   "source": [
    "## $E[S]$: the expected number of successful transmissions in a random-access slot\n",
    "- $E[S]=m(1-\\frac{1}{R})^{m-1}$"
   ]
  },
  {
   "cell_type": "code",
   "execution_count": 1,
   "id": "103c027e",
   "metadata": {},
   "outputs": [],
   "source": [
    "import matplotlib.pyplot as plt\n",
    "import random\n"
   ]
  },
  {
   "cell_type": "code",
   "execution_count": 19,
   "id": "0d290132",
   "metadata": {},
   "outputs": [
    {
     "name": "stdout",
     "output_type": "stream",
     "text": [
      "1.0935\n"
     ]
    }
   ],
   "source": [
    "m_init = 64\n",
    "R = 16\n",
    "import random\n",
    "\n",
    "total_s = 0\n",
    "run_times = 10000\n",
    "for _ in range(run_times):\n",
    "    m = m_init\n",
    "    R_arr = []\n",
    "    R_arr = [0 for i in range(R)] \n",
    "    while m > 0:\n",
    "        for i in range(R):\n",
    "            position = random.randint(0, R-1)\n",
    "            R_arr[position] += 1\n",
    "            m -= 1\n",
    "            if m <= 0:\n",
    "                break\n",
    "#     print(R_arr)\n",
    "    \n",
    "    for balls in R_arr:\n",
    "        if balls == 1:\n",
    "            total_s += 1\n",
    "\n",
    "print(total_s / run_times)    "
   ]
  },
  {
   "cell_type": "code",
   "execution_count": 20,
   "id": "25690d9d",
   "metadata": {},
   "outputs": [
    {
     "name": "stdout",
     "output_type": "stream",
     "text": [
      "0.4735\n"
     ]
    }
   ],
   "source": [
    "m_init = 50\n",
    "R = 9\n",
    "\n",
    "total_s = 0\n",
    "run_times = 10000\n",
    "for _ in range(run_times):\n",
    "    m = m_init\n",
    "    R_arr = []\n",
    "    R_arr = [0 for i in range(R)] \n",
    "    while m > 0:\n",
    "        for i in range(R):\n",
    "            position = random.randint(0, R-1)\n",
    "            R_arr[position] += 1\n",
    "            m -= 1\n",
    "            if m <= 0:\n",
    "                break\n",
    "#     print(R_arr)\n",
    "    \n",
    "    for balls in R_arr:\n",
    "        if balls == 2:\n",
    "            total_s += 1\n",
    "\n",
    "print(total_s / run_times)    "
   ]
  },
  {
   "cell_type": "markdown",
   "id": "1b74b283",
   "metadata": {},
   "source": [
    "## Simulation <-> Analytical (only 1 STA -> success)\n",
    "- $E[S]=m(1-\\frac{1}{R})^{m-1}$"
   ]
  },
  {
   "cell_type": "code",
   "execution_count": 22,
   "id": "eae1bfb7",
   "metadata": {},
   "outputs": [
    {
     "name": "stdout",
     "output_type": "stream",
     "text": [
      "[1.0, 1.806, 2.324, 2.822, 3.205, 3.295, 3.444, 3.627, 3.455, 3.472, 3.393, 3.208, 3.133, 3.081, 2.981, 2.722, 2.55, 2.396, 2.322, 2.145, 1.992, 1.822, 1.753, 1.593, 1.48, 1.386, 1.268, 1.232, 1.126, 0.98, 0.857, 0.863, 0.772, 0.656, 0.656, 0.57, 0.535, 0.54, 0.467, 0.408, 0.358, 0.342, 0.34, 0.274, 0.237, 0.227, 0.227, 0.176, 0.148, 0.136, 0.145, 0.128, 0.12, 0.125, 0.09, 0.096, 0.072, 0.07, 0.078, 0.044, 0.057, 0.049, 0.038, 0.038, 0.042, 0.039, 0.039, 0.027, 0.023, 0.024, 0.018, 0.009, 0.018, 0.017, 0.007, 0.008, 0.009, 0.011, 0.009, 0.01, 0.006, 0.009, 0.003, 0.006, 0.002, 0.004, 0.003, 0.007, 0.003, 0.004, 0.002, 0.003, 0.003, 0.002, 0.004, 0.003, 0.003, 0.001, 0.001, 0.001, 0.0, 0.0, 0.0, 0.0, 0.0, 0.001, 0.002, 0.0, 0.001, 0.0, 0.0, 0.0, 0.0, 0.0, 0.0, 0.0, 0.001, 0.0, 0.001, 0.0, 0.0, 0.0, 0.0, 0.0, 0.001, 0.0, 0.0, 0.0, 0.0, 0.0, 0.001, 0.0, 0.0, 0.0, 0.0, 0.0, 0.0, 0.0, 0.0, 0.0, 0.0, 0.0, 0.0, 0.0, 0.0, 0.0, 0.0, 0.0, 0.0, 0.0, 0.0, 0.0, 0.0, 0.0, 0.0, 0.0, 0.0, 0.0, 0.0, 0.0, 0.0, 0.0, 0.0, 0.0, 0.0, 0.0, 0.0, 0.0, 0.0, 0.0, 0.0, 0.0, 0.0, 0.0, 0.0, 0.0, 0.0, 0.0, 0.0, 0.0, 0.0, 0.0, 0.0, 0.0, 0.0, 0.0, 0.0, 0.0, 0.0, 0.0, 0.0, 0.0, 0.0, 0.0, 0.0, 0.0, 0.0, 0.0, 0.0, 0.0]\n"
     ]
    }
   ],
   "source": [
    "R = 9\n",
    "\n",
    "# m_list_simu = [10,20,30,40,50,60,70,80,90,100,110,120,130,140,150,160,170,180,190,200]\n",
    "m_list_simu = list(range(1, 201))\n",
    "\n",
    "\n",
    "run_times = 1000\n",
    "# E_list_simu = [0 for i in range(20)]\n",
    "E_list_simu = [0 for i in range(200)]\n",
    "\n",
    "for idx, m_init in enumerate(m_list_simu):\n",
    "    total_s = 0\n",
    "    for _ in range(run_times):\n",
    "        m = m_init\n",
    "        R_arr = []\n",
    "        R_arr = [0 for i in range(R)]\n",
    "        while m > 0:\n",
    "            for i in range(R):\n",
    "                position = random.randint(0, R-1)\n",
    "                R_arr[position] += 1\n",
    "                m -= 1\n",
    "                if m <= 0:\n",
    "                    break\n",
    "        for balls in R_arr:\n",
    "            if balls == 1:\n",
    "                total_s += 1\n",
    "\n",
    "    E = total_s / run_times\n",
    "    E_list_simu[idx] = E"
   ]
  },
  {
   "cell_type": "code",
   "execution_count": 23,
   "id": "cbb70bcc",
   "metadata": {},
   "outputs": [
    {
     "name": "stdout",
     "output_type": "stream",
     "text": [
      "3.387407624231824\n"
     ]
    },
    {
     "data": {
      "text/plain": [
       "[<matplotlib.lines.Line2D at 0x7fa788eaa850>]"
      ]
     },
     "execution_count": 23,
     "metadata": {},
     "output_type": "execute_result"
    },
    {
     "data": {
      "image/png": "[encoded data removed]",
      "text/plain": [
       "<Figure size 432x288 with 1 Axes>"
      ]
     },
     "metadata": {
      "needs_background": "light"
     },
     "output_type": "display_data"
    }
   ],
   "source": [
    "m = 200\n",
    "R = 9\n",
    "\n",
    "m_list = [i for i in range(1, m+1)] \n",
    "# print(m_list)\n",
    "E_list = [0 for i in range(m)] \n",
    "for i in range (1, m+1):\n",
    "    E = i * (1-1/R) ** (i-1)\n",
    "    E_list[i-1] = E\n",
    "\n",
    "print(E_list[10])\n",
    "# plt.title(\"m=1\")\n",
    "plt.plot(m_list,E_list)\n",
    "plt.plot(m_list_simu, E_list_simu, marker=\"o\", markersize=3, linestyle=\"None\")\n"
   ]
  },
  {
   "cell_type": "markdown",
   "id": "be7359dc",
   "metadata": {},
   "source": [
    "## Simulation <-> Analytical (only 2 STA -> success)\n",
    "$E[S] = (\\frac{m^2-m}{2R})(1 - \\frac{1}{R})^{m-2}$"
   ]
  },
  {
   "cell_type": "code",
   "execution_count": 2,
   "id": "983b1a84",
   "metadata": {},
   "outputs": [
    {
     "name": "stdout",
     "output_type": "stream",
     "text": [
      "[1.876, 2.463, 1.714, 0.969, 0.47, 0.224, 0.085, 0.032, 0.016, 0.005, 0.001, 0.002, 0.0, 0.0, 0.0, 0.0, 0.0, 0.0, 0.0, 0.0]\n"
     ]
    }
   ],
   "source": [
    "R = 9\n",
    "\n",
    "m_list_simu = [10,20,30,40,50,60,70,80,90,100,110,120,130,140,150,160,170,180,190,200]\n",
    "\n",
    "run_times = 1000\n",
    "E_list_simu = [0 for i in range(20)]\n",
    "\n",
    "for idx, m_init in enumerate(m_list_simu):\n",
    "    total_s = 0\n",
    "    for _ in range(run_times):\n",
    "        m = m_init\n",
    "        R_arr = []\n",
    "        R_arr = [0 for i in range(R)]\n",
    "        while m > 0:\n",
    "            for i in range(R):\n",
    "                position = random.randint(0, R-1)\n",
    "                R_arr[position] += 1\n",
    "                m -= 1\n",
    "                if m <= 0:\n",
    "                    break\n",
    "        for balls in R_arr:\n",
    "            if balls == 2:\n",
    "                total_s += 1\n",
    "\n",
    "    E = total_s / run_times\n",
    "    E_list_simu[idx] = E\n",
    "\n",
    "print(E_list_simu)"
   ]
  },
  {
   "cell_type": "code",
   "execution_count": 4,
   "id": "ee946a6c",
   "metadata": {},
   "outputs": [
    {
     "name": "stdout",
     "output_type": "stream",
     "text": [
      "2.11712976514489\n"
     ]
    },
    {
     "data": {
      "text/plain": [
       "[<matplotlib.lines.Line2D at 0x7f7de0042be0>]"
      ]
     },
     "execution_count": 4,
     "metadata": {},
     "output_type": "execute_result"
    },
    {
     "data": {
      "image/png": "[encoded data removed]",
      "text/plain": [
       "<Figure size 432x288 with 1 Axes>"
      ]
     },
     "metadata": {
      "needs_background": "light"
     },
     "output_type": "display_data"
    }
   ],
   "source": [
    "m = 200\n",
    "R = 9\n",
    "\n",
    "m_list = [i for i in range(1, m+1)] \n",
    "# print(m_list)\n",
    "E_list = [0 for i in range(m)] \n",
    "for i in range (1, m+1):\n",
    "    E = (i*i-i) / (2 * R) * (1-1/R) ** (i-2)\n",
    "    E_list[i-1] = E\n",
    "\n",
    "print(E_list[10])\n",
    "plt.title(\"m=2\")\n",
    "plt.plot(m_list,E_list)\n",
    "plt.plot(m_list_simu,E_list_simu, marker=\"o\", linestyle=\"None\")\n"
   ]
  },
  {
   "cell_type": "markdown",
   "id": "5300e6d1",
   "metadata": {},
   "source": [
    "## Simulation <-> Analytical (only 3STA -> success)"
   ]
  },
  {
   "cell_type": "code",
   "execution_count": 26,
   "id": "a44ed027",
   "metadata": {},
   "outputs": [
    {
     "name": "stdout",
     "output_type": "stream",
     "text": [
      "[0.642, 1.891, 2.111, 1.507, 0.931, 0.531, 0.255, 0.099, 0.045, 0.022, 0.01, 0.002, 0.002, 0.0, 0.0, 0.0, 0.001, 0.0, 0.0, 0.0]\n"
     ]
    }
   ],
   "source": [
    "R = 9\n",
    "\n",
    "m_list_simu = [10,20,30,40,50,60,70,80,90,100,110,120,130,140,150,160,170,180,190,200]\n",
    "\n",
    "run_times = 1000\n",
    "E_list_simu = [0 for i in range(20)]\n",
    "\n",
    "for idx, m_init in enumerate(m_list_simu):\n",
    "    total_s = 0\n",
    "    for _ in range(run_times):\n",
    "        m = m_init\n",
    "        R_arr = []\n",
    "        R_arr = [0 for i in range(R)]\n",
    "        while m > 0:\n",
    "            for i in range(R):\n",
    "                position = random.randint(0, R-1)\n",
    "                R_arr[position] += 1\n",
    "                m -= 1\n",
    "                if m <= 0:\n",
    "                    break\n",
    "        for balls in R_arr:\n",
    "            if balls == 3:\n",
    "                total_s += 1\n",
    "\n",
    "    E = total_s / run_times\n",
    "    E_list_simu[idx] = E\n",
    "\n",
    "print(E_list_simu)"
   ]
  },
  {
   "cell_type": "code",
   "execution_count": 27,
   "id": "f76eb374",
   "metadata": {
    "scrolled": true
   },
   "outputs": [
    {
     "name": "stdout",
     "output_type": "stream",
     "text": [
      "0.7939236619293337\n"
     ]
    },
    {
     "data": {
      "text/plain": [
       "[<matplotlib.lines.Line2D at 0x7fa768a150a0>]"
      ]
     },
     "execution_count": 27,
     "metadata": {},
     "output_type": "execute_result"
    },
    {
     "data": {
      "image/png": "[encoded data removed]",
      "text/plain": [
       "<Figure size 432x288 with 1 Axes>"
      ]
     },
     "metadata": {
      "needs_background": "light"
     },
     "output_type": "display_data"
    }
   ],
   "source": [
    "m = 200\n",
    "R = 9\n",
    "\n",
    "m_list = [i for i in range(1, m+1)] \n",
    "E_list = [0 for i in range(m)] \n",
    "\n",
    "# print(m_list)\n",
    "E_list = [0 for i in range(m)] \n",
    "for i in range (1, m+1):\n",
    "    E = (i * (i-1) * (i-2) / 6) * (1 / (R ** 2)) * (1-1/R) ** (i-3)\n",
    "    E_list[i-1] = E\n",
    "\n",
    "print(E_list[10])\n",
    "plt.title(\"m=3\")\n",
    "plt.plot(m_list,E_list)\n",
    "plt.plot(m_list_simu,E_list_simu, marker=\"o\", linestyle=\"None\")\n"
   ]
  },
  {
   "cell_type": "markdown",
   "id": "8e8759a6",
   "metadata": {},
   "source": [
    "## Simulation <-> Analytical (1 or 2 STA -> success)\n",
    "$E[s] = E_1[s] + E_2[s]$\n",
    "\n",
    "$E[s] = m * (1 - \\frac{1}{R})^{m-1} + (\\frac{m^2-m}{2R})(1 - \\frac{1}{R})^{m-2}$"
   ]
  },
  {
   "cell_type": "code",
   "execution_count": 28,
   "id": "e2af335a",
   "metadata": {},
   "outputs": [
    {
     "name": "stdout",
     "output_type": "stream",
     "text": [
      "[1.0, 1.882, 2.628, 3.311, 3.944, 4.409, 4.756, 5.008, 5.239, 5.428, 5.44, 4.653, 3.648, 2.767, 1.955, 1.382, 0.896, 0.663, 0.264, 0.104, 0.04, 0.024, 0.008, 0.006, 0.0, 0.0, 0.0, 0.0, 0.0, 0.0, 0.0, 0.0, 0.0]\n"
     ]
    }
   ],
   "source": [
    "R = 9\n",
    "\n",
    "m_list_simu = [1,2,3,4,5,6,7,8,9,10,15,20,25,30,35,40,45,50,60,70,80,90,100,110,120,130,140,150,160,170,180,190,200]\n",
    "# m_list_simu = [i for i in range(200)]\n",
    "run_times = 1000\n",
    "E_list_simu = [0 for i in range(len(m_list_simu))]\n",
    "\n",
    "for idx, m_init in enumerate(m_list_simu):\n",
    "    total_s = 0\n",
    "    for _ in range(run_times):\n",
    "        m = m_init\n",
    "        R_arr = []\n",
    "        R_arr = [0 for i in range(R)]\n",
    "        while m > 0:\n",
    "            for i in range(R):\n",
    "                position = int(random.random() * 1000000000000000 % R)\n",
    "                R_arr[position] += 1\n",
    "                m -= 1\n",
    "                if m <= 0:\n",
    "                    break\n",
    "        for balls in R_arr:\n",
    "            if balls == 1 or balls == 2:\n",
    "                total_s += 1\n",
    "\n",
    "    E = total_s / run_times\n",
    "    E_list_simu[idx] = E\n",
    "\n",
    "print(E_list_simu)"
   ]
  },
  {
   "cell_type": "code",
   "execution_count": 29,
   "id": "03e6afd7",
   "metadata": {},
   "outputs": [
    {
     "name": "stdout",
     "output_type": "stream",
     "text": [
      "5.504537389376714\n"
     ]
    },
    {
     "data": {
      "text/plain": [
       "[<matplotlib.lines.Line2D at 0x7fa788f1a880>]"
      ]
     },
     "execution_count": 29,
     "metadata": {},
     "output_type": "execute_result"
    },
    {
     "data": {
      "image/png": "[encoded data removed]",
      "text/plain": [
       "<Figure size 432x288 with 1 Axes>"
      ]
     },
     "metadata": {
      "needs_background": "light"
     },
     "output_type": "display_data"
    }
   ],
   "source": [
    "m = 200\n",
    "R = 9\n",
    "\n",
    "m_list = [i for i in range(1, m+1)] \n",
    "# print(m_list)\n",
    "E_list = [0 for i in range(m)] \n",
    "for i in range (1, m+1):\n",
    "    # m=1 + m=2\n",
    "    E = ( i * (1-1/R) ** (i-1) ) + ( (i*i-i) / (2 * R) * (1-1/R) ** (i-2) )\n",
    "    E_list[i-1] = E\n",
    "\n",
    "print(E_list[10])\n",
    "# plt.title(\"m=1 or m=2\")\n",
    "plt.plot(m_list,E_list)\n",
    "plt.plot(m_list_simu,E_list_simu, marker=\"o\", linestyle=\"None\")\n"
   ]
  },
  {
   "cell_type": "code",
   "execution_count": null,
   "id": "856dbed9",
   "metadata": {},
   "outputs": [],
   "source": []
  }
 ],
 "metadata": {
  "kernelspec": {
   "display_name": "Python 3",
   "language": "python",
   "name": "python3"
  },
  "language_info": {
   "codemirror_mode": {
    "name": "ipython",
    "version": 3
   },
   "file_extension": ".py",
   "mimetype": "text/x-python",
   "name": "python",
   "nbconvert_exporter": "python",
   "pygments_lexer": "ipython3",
   "version": "3.8.8"
  }
 },
 "nbformat": 4,
 "nbformat_minor": 5
}

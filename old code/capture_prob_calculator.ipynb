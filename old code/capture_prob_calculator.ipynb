{
 "cells": [
  {
   "cell_type": "code",
   "execution_count": 15,
   "id": "ce828567",
   "metadata": {},
   "outputs": [],
   "source": [
    "import math\n",
    "# calculus\n",
    "import sympy as sym\n",
    "import random"
   ]
  },
  {
   "cell_type": "markdown",
   "id": "f0725969",
   "metadata": {},
   "source": [
    "# Analytical"
   ]
  },
  {
   "cell_type": "code",
   "execution_count": 105,
   "id": "9e219220",
   "metadata": {},
   "outputs": [
    {
     "name": "stdout",
     "output_type": "stream",
     "text": [
      "x_p: 1, y_p: 1, result: 0.159103584746286\n",
      "x_p: 1, y_p: 2, result: 0.123146428876177\n",
      "x_p: 1, y_p: 4, result: 0.0870776749372517\n",
      "x_p: 1, y_p: 8, result: 0.0615732144380885\n",
      "x_p: 2, y_p: 1, result: 0.0615732144380885\n",
      "x_p: 2, y_p: 2, result: 0.159103584746286\n",
      "x_p: 2, y_p: 4, result: 0.123146428876177\n",
      "x_p: 2, y_p: 8, result: 0.0870776749372517\n",
      "x_p: 4, y_p: 1, result: 0.0870776749372517\n",
      "x_p: 4, y_p: 2, result: 0.0870776749372517\n",
      "x_p: 4, y_p: 4, result: 0.159103584746286\n",
      "x_p: 4, y_p: 8, result: 0.123146428876177\n",
      "x_p: 8, y_p: 1, result: 0.123146428876177\n",
      "x_p: 8, y_p: 2, result: 0.123146428876177\n",
      "x_p: 8, y_p: 4, result: 0.123146428876177\n",
      "x_p: 8, y_p: 8, result: 0.159103584746286\n"
     ]
    },
    {
     "data": {
      "text/latex": [
       "$\\displaystyle 0.884578122445788$"
      ],
      "text/plain": [
       "0.884578122445788"
      ]
     },
     "execution_count": 105,
     "metadata": {},
     "output_type": "execute_result"
    }
   ],
   "source": [
    "# CR = 3 -> power ratio = 2\n",
    "\n",
    "Pr = math.sqrt(2)\n",
    "# Pr = 2\n",
    "\n",
    "\n",
    "x, y= sym.symbols('x y')\n",
    "# f(x)=f(y)=1\n",
    "f_x_y = 1\n",
    "\n",
    "Px_list = [1, 2, 4, 8]\n",
    "Py_list = [1, 2, 4, 8]\n",
    "# result = sym.integrate(sym.integrate(f_x_y, (x, y/2, y)), (y, 0, 1))\n",
    "\n",
    "total = 0\n",
    "scenario = 0\n",
    "for Px in Px_list:\n",
    "    for Py in Py_list:\n",
    "        slope_1 = math.sqrt(Py * Pr / Px)\n",
    "        slope_2 = math.sqrt(Py / (Px * Pr))\n",
    "        \n",
    "        if slope_1 > 1 and slope_2 > 1:\n",
    "            x_lower_bound_1 = 0\n",
    "            x_upper_bound_1 = 1 / (math.sqrt(Py * Pr / Px))\n",
    "            integrand_1 = math.sqrt(Py * Pr / Px) * x - math.sqrt(Py / (Pr * Px)) * x\n",
    "\n",
    "            x_lower_bound_2 = 1 / (math.sqrt(Py * Pr / Px))\n",
    "            x_upper_bound_2 = 1 / (math.sqrt(Py / (Pr * Px)))\n",
    "            integrand_2 = 1 - math.sqrt(Py / (Pr * Px)) * x\n",
    "\n",
    "            region_1 = sym.integrate(integrand_1, (x, x_lower_bound_1, x_upper_bound_1))\n",
    "            region_2 = sym.integrate(integrand_2, (x, x_lower_bound_2, x_upper_bound_2))\n",
    "\n",
    "            result = region_1 + region_2\n",
    "        if slope_1 > 1 and slope_2 < 1:\n",
    "            x_lower_bound_1 = 0\n",
    "            x_upper_bound_1 = 1 / (math.sqrt(Py * Pr / Px))\n",
    "            integrand_1 = math.sqrt(Py * Pr / Px) * x - math.sqrt(Py / (Pr * Px)) * x\n",
    "\n",
    "            x_lower_bound_2 = 1 / (math.sqrt(Py * Pr / Px))\n",
    "            x_upper_bound_2 = 1\n",
    "            integrand_2 = 1 - math.sqrt(Py / (Pr * Px)) * x\n",
    "\n",
    "            region_1 = sym.integrate(integrand_1, (x, x_lower_bound_1, x_upper_bound_1))\n",
    "            region_2 = sym.integrate(integrand_2, (x, x_lower_bound_2, x_upper_bound_2))\n",
    "\n",
    "            result = region_1 + region_2\n",
    "        if slope_1 < 1 and slope_2 < 1:\n",
    "            x_lower_bound = 0\n",
    "            x_upper_bound = 1\n",
    "            integrand = math.sqrt(Py * Pr / Px) * x - math.sqrt(Py / (Pr * Px)) * x\n",
    "\n",
    "            region = sym.integrate(integrand, (x, x_lower_bound, x_upper_bound))\n",
    "\n",
    "            result = region_1 + region_2\n",
    "        \n",
    "        print(f'x_p: {Px}, y_p: {Py}, result: {result}')\n",
    "        total += result\n",
    "\n",
    "1 - total / 16"
   ]
  },
  {
   "cell_type": "markdown",
   "id": "34e42b10",
   "metadata": {},
   "source": [
    "# Simulation"
   ]
  },
  {
   "cell_type": "code",
   "execution_count": 107,
   "id": "610c93da",
   "metadata": {},
   "outputs": [
    {
     "name": "stdout",
     "output_type": "stream",
     "text": [
      "Px: 1, Py: 1, result: 0.15726\n",
      "Px: 1, Py: 2, result: 0.12296\n",
      "Px: 1, Py: 4, result: 0.08683\n",
      "Px: 1, Py: 8, result: 0.06097\n",
      "Px: 2, Py: 1, result: 0.12415\n",
      "Px: 2, Py: 2, result: 0.1586\n",
      "Px: 2, Py: 4, result: 0.12244\n",
      "Px: 2, Py: 8, result: 0.08776\n",
      "Px: 4, Py: 1, result: 0.08717\n",
      "Px: 4, Py: 2, result: 0.12192\n",
      "Px: 4, Py: 4, result: 0.15946\n",
      "Px: 4, Py: 8, result: 0.12196\n",
      "Px: 8, Py: 1, result: 0.06083\n",
      "Px: 8, Py: 2, result: 0.08673\n",
      "Px: 8, Py: 4, result: 0.12139\n",
      "Px: 8, Py: 8, result: 0.16118\n"
     ]
    },
    {
     "data": {
      "text/plain": [
       "0.884899375"
      ]
     },
     "execution_count": 107,
     "metadata": {},
     "output_type": "execute_result"
    }
   ],
   "source": [
    "samples = 100000\n",
    "total = 0\n",
    "for Px in Px_list:\n",
    "    for Py in Py_list:\n",
    "        count_successful = 0\n",
    "        for _ in range(samples):\n",
    "            x = random.uniform(0, 1)\n",
    "            y = random.uniform(0, 1)\n",
    "\n",
    "            if 1 / Pr <= (Px / (x**2)) / (Py / (y**2)) <= Pr:\n",
    "                count_successful += 1\n",
    "\n",
    "        result = count_successful / samples\n",
    "        total += result\n",
    "        print(f'Px: {Px}, Py: {Py}, result: {result}')\n",
    "\n",
    "1 - total / 16"
   ]
  },
  {
   "cell_type": "code",
   "execution_count": null,
   "id": "1b61caca",
   "metadata": {},
   "outputs": [],
   "source": []
  }
 ],
 "metadata": {
  "kernelspec": {
   "display_name": "Python 3",
   "language": "python",
   "name": "python3"
  },
  "language_info": {
   "codemirror_mode": {
    "name": "ipython",
    "version": 3
   },
   "file_extension": ".py",
   "mimetype": "text/x-python",
   "name": "python",
   "nbconvert_exporter": "python",
   "pygments_lexer": "ipython3",
   "version": "3.8.8"
  }
 },
 "nbformat": 4,
 "nbformat_minor": 5
}

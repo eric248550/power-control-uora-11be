{
 "cells": [
  {
   "cell_type": "code",
   "execution_count": 5,
   "id": "9ac5b08b",
   "metadata": {},
   "outputs": [],
   "source": [
    "import math\n",
    "import random"
   ]
  },
  {
   "cell_type": "code",
   "execution_count": 16,
   "id": "68f0e792",
   "metadata": {},
   "outputs": [
    {
     "data": {
      "text/plain": [
       "2"
      ]
     },
     "execution_count": 16,
     "metadata": {},
     "output_type": "execute_result"
    }
   ],
   "source": [
    "int(random.uniform(0,3))"
   ]
  },
  {
   "cell_type": "code",
   "execution_count": 33,
   "id": "76f48163",
   "metadata": {},
   "outputs": [
    {
     "data": {
      "text/plain": [
       "0"
      ]
     },
     "execution_count": 33,
     "metadata": {},
     "output_type": "execute_result"
    }
   ],
   "source": [
    "random.randint(0, 1)"
   ]
  },
  {
   "cell_type": "code",
   "execution_count": 38,
   "id": "3c2da1cd",
   "metadata": {},
   "outputs": [
    {
     "data": {
      "text/plain": [
       "[9, 9]"
      ]
     },
     "execution_count": 38,
     "metadata": {},
     "output_type": "execute_result"
    }
   ],
   "source": [
    "Ri = [9 for _ in range(0,1+1)] \n",
    "Ri"
   ]
  },
  {
   "cell_type": "code",
   "execution_count": null,
   "id": "4b5555f3",
   "metadata": {},
   "outputs": [],
   "source": []
  },
  {
   "cell_type": "code",
   "execution_count": 66,
   "id": "bbbf8b2c",
   "metadata": {},
   "outputs": [],
   "source": [
    "# Lmax: Retransmit limit\n",
    "# TXOP: in ms\n",
    "# Imax: total slots in worst case\n",
    "def simulation(sta_amount, RA_RU, Lmax, TXOP, ocw_min, ocw_max, mode='general'):\n",
    "    access_delay=0\n",
    "    counter_delay_slot=0\n",
    "    success_sta=0\n",
    "    success_packet=0\n",
    "    success_probability=0\n",
    "    # setting ocw_n [ocw_min, 1st_retry_ocw....]\n",
    "    ocw = [0 for _ in range(0, Lmax)]\n",
    "    ocw[0] = ocw_min\n",
    "    for n in range (1, Lmax):\n",
    "        temp_ocw = ocw[n-1] * 2 + 1\n",
    "        if temp_ocw <= ocw_max:\n",
    "            ocw[n] = temp_ocw\n",
    "        else:\n",
    "            ocw[n] = ocw[n-1]\n",
    "    # Imax\n",
    "    Imax = 0\n",
    "    for n in range(0, Lmax):\n",
    "        Imax += math.ceil(ocw[n] / RA_RU)\n",
    "    # set each STA's OBO counter\n",
    "    obo_counter = [random.randint(0, ocw_min) for _ in range(0, sta_amount)]\n",
    "    # set STA's transmit attempt time\n",
    "    retrans_counter = [0 for _ in range(0, sta_amount)]\n",
    "    # number of STAs on RA-RU\n",
    "    R_counter = [[0] * RA_RU for _ in range(0,Imax)]\n",
    "    # selected RA-RU for each station\n",
    "    sta_selected_R = [None for _ in range(0, sta_amount)]\n",
    "    print(sta_selected_R)\n",
    "    # No.i slot    \n",
    "    for i in range(0, Imax):\n",
    "        # No.x STA\n",
    "        for x in range (0,sta_amount):\n",
    "            # decrease OBO counter by 1\n",
    "            obo_counter[x] -= 1\n",
    "            # if counter <=0 select R\n",
    "            if (obo_counter[x] <= 0):\n",
    "                selected_R_index = random.randint(0, RA_RU)\n",
    "                sta_selected_R[x] = selected_R_index\n",
    "                R_counter[i][selected_R_index] += 1\n",
    "        \n",
    "#         print(obo_counter)"
   ]
  },
  {
   "cell_type": "code",
   "execution_count": 67,
   "id": "a0f595e1",
   "metadata": {},
   "outputs": [
    {
     "name": "stdout",
     "output_type": "stream",
     "text": [
      "[None, None, None, None, None, None, None, None, None, None, None, None, None, None, None, None, None, None, None, None, None, None, None, None, None, None, None, None, None, None, None, None, None, None, None, None, None, None, None, None, None, None, None, None, None, None, None, None, None, None, None, None, None, None, None, None, None, None, None, None, None, None, None, None, None, None, None, None, None, None, None, None, None, None, None, None, None, None, None, None, None, None, None, None, None, None, None, None, None, None, None, None, None, None, None, None, None, None, None, None]\n"
     ]
    }
   ],
   "source": [
    "simulation(sta_amount=100, RA_RU=9, Lmax=5, TXOP=28, ocw_min=7, ocw_max=31, mode='general')"
   ]
  },
  {
   "cell_type": "code",
   "execution_count": null,
   "id": "bad7c4d8",
   "metadata": {},
   "outputs": [],
   "source": []
  }
 ],
 "metadata": {
  "kernelspec": {
   "display_name": "Python 3",
   "language": "python",
   "name": "python3"
  },
  "language_info": {
   "codemirror_mode": {
    "name": "ipython",
    "version": 3
   },
   "file_extension": ".py",
   "mimetype": "text/x-python",
   "name": "python",
   "nbconvert_exporter": "python",
   "pygments_lexer": "ipython3",
   "version": "3.8.8"
  }
 },
 "nbformat": 4,
 "nbformat_minor": 5
}

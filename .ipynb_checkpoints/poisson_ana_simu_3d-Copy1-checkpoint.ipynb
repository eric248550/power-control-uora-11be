{
 "cells": [
  {
   "cell_type": "markdown",
   "id": "f687718a",
   "metadata": {},
   "source": [
    "## The number of RA-RUs that exact $x$ STA select \n",
    "$R_{x} \\approx  R \\frac{(\\frac{M}{R})^x e^{-\\frac{M}{R}}}{x!}$\n"
   ]
  },
  {
   "cell_type": "code",
   "execution_count": 58,
   "id": "103c027e",
   "metadata": {},
   "outputs": [],
   "source": [
    "import matplotlib.pyplot as plt\n",
    "import random\n",
    "import numpy as np\n",
    "import math\n",
    "from mpl_toolkits.mplot3d import Axes3D\n",
    "from matplotlib.colors import ListedColormap, BoundaryNorm\n",
    "from matplotlib.colors import LinearSegmentedColormap\n"
   ]
  },
  {
   "cell_type": "markdown",
   "id": "21b5c48a",
   "metadata": {},
   "source": [
    "### Simulation"
   ]
  },
  {
   "cell_type": "code",
   "execution_count": 13,
   "id": "caa4e934",
   "metadata": {},
   "outputs": [],
   "source": [
    "def simulation(R, x, M, run_times):\n",
    "    cnt = 0\n",
    "    for _ in range(run_times):\n",
    "        R_arr = [0 for i in range(R)]\n",
    "        for _ in range(M):\n",
    "            position = random.randint(0, R-1)\n",
    "            R_arr[position] += 1\n",
    "        for balls in R_arr:\n",
    "            if balls == x:\n",
    "                cnt += 1\n",
    "    cnt = cnt / run_times\n",
    "    return cnt"
   ]
  },
  {
   "cell_type": "markdown",
   "id": "fdb31fee",
   "metadata": {},
   "source": [
    "### Analytical"
   ]
  },
  {
   "cell_type": "code",
   "execution_count": 37,
   "id": "7f7b3e5a",
   "metadata": {},
   "outputs": [],
   "source": [
    "def analytical(R, x, M):\n",
    "    return R * ((M/R) ** x) * math.exp(-M/R) / math.factorial(x)"
   ]
  },
  {
   "cell_type": "code",
   "execution_count": 83,
   "id": "db58657e",
   "metadata": {},
   "outputs": [],
   "source": [
    "def getApproxError(ana_value, simu_value):\n",
    "    if ana_value <= 0:\n",
    "        return 0\n",
    "    return abs(ana_value - simu_value) / ana_value * 100"
   ]
  },
  {
   "cell_type": "code",
   "execution_count": null,
   "id": "452db75f",
   "metadata": {},
   "outputs": [],
   "source": [
    "# Setting ranges for M and R\n",
    "# Ms = range(1, 1000)  # Range of M values\n",
    "# Ms = [(i*10) for i in range(1,101)]\n",
    "Ms = [(i+1) for i in range(1000)]\n",
    "# Rs = range(1, 200)  # Range of R values\n",
    "# Rs = [(i*10) for i in range(1,21)]\n",
    "Rs = [(i+1) for i in range(200)]\n",
    "x = 1   # Given x value\n",
    "run_times = 1000  # Number of simulations per combination\n",
    "\n",
    "# Preparing the grid\n",
    "M_mesh, R_mesh = np.meshgrid(Ms, Rs)\n",
    "error_mesh = np.zeros_like(M_mesh, dtype=float)\n",
    "\n",
    "# Calculating errors for each combination of M and R\n",
    "for i, R in enumerate(Rs):\n",
    "    for j, M in enumerate(Ms):\n",
    "        ana_value = analytical(R, x, M)\n",
    "        simu_value = simulation(R, x, M, run_times)\n",
    "        error_mesh[i, j] = getApproxError(ana_value, simu_value)"
   ]
  },
  {
   "cell_type": "code",
   "execution_count": null,
   "id": "6b021217",
   "metadata": {},
   "outputs": [],
   "source": [
    "# 3D Plotting\n",
    "\n",
    "fig = plt.figure(figsize=(12, 8))\n",
    "ax = fig.add_subplot(111, projection='3d')\n",
    "surf = ax.plot_surface(R_mesh, M_mesh, error_mesh, cmap='viridis', edgecolor='none')\n",
    "ax.set_xlabel('R (number of bins)')\n",
    "ax.set_ylabel('M (number of balls)')\n",
    "ax.set_zlabel('Approximation Error (%)')\n",
    "ax.set_title('Approximation Error for Various M and R with x=1')\n",
    "fig.colorbar(surf, shrink=0.5, aspect=5)  # Color bar for error magnitude\n",
    "\n",
    "# ax.set_zlim(0, 100)\n",
    "\n",
    "plt.show()"
   ]
  },
  {
   "cell_type": "code",
   "execution_count": null,
   "id": "853acda0",
   "metadata": {},
   "outputs": [],
   "source": [
    "# 3D Plotting\n",
    "\n",
    "fig = plt.figure(figsize=(12, 8))\n",
    "ax = fig.add_subplot(111, projection='3d')\n",
    "surf = ax.plot_surface(R_mesh, M_mesh, error_mesh, cmap='viridis', edgecolor='none')\n",
    "ax.set_xlabel('R (number of bins)')\n",
    "ax.set_ylabel('M (number of balls)')\n",
    "ax.set_zlabel('Approximation Error (%)')\n",
    "ax.set_title('Approximation Error for Various M and R with x=1')\n",
    "fig.colorbar(surf, shrink=0.5, aspect=5)  # Color bar for error magnitude\n",
    "\n",
    "ax.set_zlim(0, 100)\n",
    "\n",
    "plt.show()"
   ]
  },
  {
   "cell_type": "code",
   "execution_count": null,
   "id": "571737b7",
   "metadata": {
    "scrolled": false
   },
   "outputs": [],
   "source": [
    "capped_error_mesh = np.copy(error_mesh)\n",
    "\n",
    "capped_error_mesh[capped_error_mesh > 100] = 100\n",
    "\n",
    "# Color Bar\n",
    "colors = ['green', 'yellow', 'orange', 'red']\n",
    "bounds = [0, 5, 10, 50, 100]  # Define boundaries for the colors\n",
    "# bounds = [0, 1, 2, 5, 100]  # Define boundaries for the colors\n",
    "custom_cmap = ListedColormap(colors)\n",
    "norm = BoundaryNorm(bounds, custom_cmap.N)\n",
    "\n",
    "fig = plt.figure(figsize=(12, 8), dpi=150)\n",
    "ax = fig.add_subplot(111, projection='3d')\n",
    "surf = ax.plot_surface(R_mesh, M_mesh, capped_error_mesh, cmap=custom_cmap, norm=norm, edgecolor='none')\n",
    "\n",
    "\n",
    "ax.set_xlabel('R (number of bins)')\n",
    "ax.set_ylabel('M (number of balls)')\n",
    "ax.set_zlabel('Approximation Error (%)')\n",
    "ax.set_title('Poission Approximation Error')\n",
    "fig.colorbar(surf, shrink=0.5, aspect=5)  # Color bar for error magnitude\n",
    "# fig.colorbar(surf, boundaries=bounds, shrink=0.5, aspect=5)  # Add custom colorbar\n",
    "\n",
    "ax.set_zlim(0, 100)\n",
    "\n",
    "plt.show()"
   ]
  },
  {
   "cell_type": "code",
   "execution_count": null,
   "id": "5dfe2c2e",
   "metadata": {},
   "outputs": [],
   "source": []
  }
 ],
 "metadata": {
  "kernelspec": {
   "display_name": "Python 3",
   "language": "python",
   "name": "python3"
  },
  "language_info": {
   "codemirror_mode": {
    "name": "ipython",
    "version": 3
   },
   "file_extension": ".py",
   "mimetype": "text/x-python",
   "name": "python",
   "nbconvert_exporter": "python",
   "pygments_lexer": "ipython3",
   "version": "3.8.8"
  }
 },
 "nbformat": 4,
 "nbformat_minor": 5
}

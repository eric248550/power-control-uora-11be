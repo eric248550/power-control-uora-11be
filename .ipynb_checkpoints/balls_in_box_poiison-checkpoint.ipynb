{
 "cells": [
  {
   "cell_type": "markdown",
   "id": "f687718a",
   "metadata": {},
   "source": [
    "## $E[S]$: the expected number of successful transmissions in a random-access slot\n",
    "- $E[S]=m(1-\\frac{1}{R})^{m-1}$"
   ]
  },
  {
   "cell_type": "code",
   "execution_count": 12,
   "id": "103c027e",
   "metadata": {},
   "outputs": [],
   "source": [
    "import matplotlib.pyplot as plt\n",
    "import random\n"
   ]
  },
  {
   "cell_type": "code",
   "execution_count": 13,
   "id": "0d290132",
   "metadata": {},
   "outputs": [
    {
     "name": "stdout",
     "output_type": "stream",
     "text": [
      "1.0962\n"
     ]
    }
   ],
   "source": [
    "m_init = 64\n",
    "R = 16\n",
    "import random\n",
    "\n",
    "total_s = 0\n",
    "run_times = 10000\n",
    "for _ in range(run_times):\n",
    "    m = m_init\n",
    "    R_arr = []\n",
    "    R_arr = [0 for i in range(R)] \n",
    "    while m > 0:\n",
    "        for i in range(R):\n",
    "            position = random.randint(0, R-1)\n",
    "            R_arr[position] += 1\n",
    "            m -= 1\n",
    "            if m <= 0:\n",
    "                break\n",
    "#     print(R_arr)\n",
    "    \n",
    "    for balls in R_arr:\n",
    "        if balls == 1:\n",
    "            total_s += 1\n",
    "\n",
    "print(total_s / run_times)    "
   ]
  },
  {
   "cell_type": "code",
   "execution_count": 14,
   "id": "25690d9d",
   "metadata": {},
   "outputs": [
    {
     "name": "stdout",
     "output_type": "stream",
     "text": [
      "0.4867\n"
     ]
    }
   ],
   "source": [
    "m_init = 50\n",
    "R = 9\n",
    "\n",
    "total_s = 0\n",
    "run_times = 10000\n",
    "for _ in range(run_times):\n",
    "    m = m_init\n",
    "    R_arr = []\n",
    "    R_arr = [0 for i in range(R)] \n",
    "    while m > 0:\n",
    "        for i in range(R):\n",
    "            position = random.randint(0, R-1)\n",
    "            R_arr[position] += 1\n",
    "            m -= 1\n",
    "            if m <= 0:\n",
    "                break\n",
    "#     print(R_arr)\n",
    "    \n",
    "    for balls in R_arr:\n",
    "        if balls == 2:\n",
    "            total_s += 1\n",
    "\n",
    "print(total_s / run_times)    "
   ]
  },
  {
   "cell_type": "markdown",
   "id": "1b74b283",
   "metadata": {},
   "source": [
    "## Simulation <-> Analytical (only 1 STA -> success)\n",
    "- $E[S]=m(1-\\frac{1}{R})^{m-1}$"
   ]
  },
  {
   "cell_type": "code",
   "execution_count": 23,
   "id": "eae1bfb7",
   "metadata": {},
   "outputs": [],
   "source": [
    "R = 9\n",
    "\n",
    "m_list_simu = [10,20,30,40,50,60,70,80,90,100,110,120,130,140,150,160,170,180,190,200]\n",
    "# m_list_simu = list(range(1, 201))\n",
    "\n",
    "\n",
    "run_times = 1000\n",
    "E_list_simu = [0 for i in range(20)]\n",
    "# E_list_simu = [0 for i in range(200)]\n",
    "\n",
    "for idx, m_init in enumerate(m_list_simu):\n",
    "    total_s = 0\n",
    "    for _ in range(run_times):\n",
    "        m = m_init\n",
    "        R_arr = []\n",
    "        R_arr = [0 for i in range(R)]\n",
    "        while m > 0:\n",
    "            for i in range(R):\n",
    "                position = random.randint(0, R-1)\n",
    "                R_arr[position] += 1\n",
    "                m -= 1\n",
    "                if m <= 0:\n",
    "                    break\n",
    "        for balls in R_arr:\n",
    "            if balls == 1:\n",
    "                total_s += 1\n",
    "\n",
    "    E = total_s / run_times\n",
    "    E_list_simu[idx] = E"
   ]
  },
  {
   "cell_type": "code",
   "execution_count": 24,
   "id": "cbb70bcc",
   "metadata": {},
   "outputs": [
    {
     "name": "stdout",
     "output_type": "stream",
     "text": [
      "3.387407624231824\n"
     ]
    },
    {
     "data": {
      "text/plain": [
       "[<matplotlib.lines.Line2D at 0x7f79c1b4e5b0>]"
      ]
     },
     "execution_count": 24,
     "metadata": {},
     "output_type": "execute_result"
    },
    {
     "data": {
      "image/png": "[encoded data removed]",
      "text/plain": [
       "<Figure size 432x288 with 1 Axes>"
      ]
     },
     "metadata": {
      "needs_background": "light"
     },
     "output_type": "display_data"
    }
   ],
   "source": [
    "m = 200\n",
    "R = 9\n",
    "\n",
    "m_list = [i for i in range(1, m+1)] \n",
    "# print(m_list)\n",
    "E_list = [0 for i in range(m)] \n",
    "for i in range (1, m+1):\n",
    "    E = i * (1-1/R) ** (i-1)\n",
    "    E_list[i-1] = E\n",
    "\n",
    "print(E_list[10])\n",
    "# plt.title(\"m=1\")\n",
    "plt.plot(m_list,E_list)\n",
    "plt.plot(m_list_simu, E_list_simu, marker=\"o\", markersize=3, linestyle=\"None\")\n"
   ]
  },
  {
   "cell_type": "markdown",
   "id": "be7359dc",
   "metadata": {},
   "source": [
    "## Simulation <-> Analytical (only 2 STA -> success)\n",
    "$E[S] = (\\frac{m^2-m}{2R})(1 - \\frac{1}{R})^{m-2}$"
   ]
  },
  {
   "cell_type": "code",
   "execution_count": 44,
   "id": "983b1a84",
   "metadata": {},
   "outputs": [
    {
     "name": "stdout",
     "output_type": "stream",
     "text": [
      "[0.497, 2.042, 3.93, 6.299, 8.553, 10.967, 12.991, 14.722, 16.09, 17.776, 18.733, 19.316, 19.718, 20.055, 20.023, 20.165, 19.713, 19.201, 18.976, 18.103]\n"
     ]
    }
   ],
   "source": [
    "R = 74\n",
    "\n",
    "m_list_simu = [10,20,30,40,50,60,70,80,90,100,110,120,130,140,150,160,170,180,190,200]\n",
    "\n",
    "run_times = 1000\n",
    "E_list_simu = [0 for i in range(20)]\n",
    "\n",
    "for idx, m_init in enumerate(m_list_simu):\n",
    "    total_s = 0\n",
    "    for _ in range(run_times):\n",
    "        m = m_init\n",
    "        R_arr = []\n",
    "        R_arr = [0 for i in range(R)]\n",
    "        while m > 0:\n",
    "            for i in range(R):\n",
    "                position = random.randint(0, R-1)\n",
    "                R_arr[position] += 1\n",
    "                m -= 1\n",
    "                if m <= 0:\n",
    "                    break\n",
    "        for balls in R_arr:\n",
    "            if balls == 2:\n",
    "                total_s += 1\n",
    "\n",
    "    E = total_s / run_times\n",
    "    E_list_simu[idx] = E\n",
    "\n",
    "print(E_list_simu)"
   ]
  },
  {
   "cell_type": "code",
   "execution_count": 45,
   "id": "ee946a6c",
   "metadata": {},
   "outputs": [
    {
     "name": "stdout",
     "output_type": "stream",
     "text": [
      "0.6575839933996355\n"
     ]
    },
    {
     "data": {
      "text/plain": [
       "[<matplotlib.lines.Line2D at 0x7f79a01fad30>]"
      ]
     },
     "execution_count": 45,
     "metadata": {},
     "output_type": "execute_result"
    },
    {
     "data": {
      "image/png": "[encoded data removed]",
      "text/plain": [
       "<Figure size 432x288 with 1 Axes>"
      ]
     },
     "metadata": {
      "needs_background": "light"
     },
     "output_type": "display_data"
    }
   ],
   "source": [
    "m = 200\n",
    "\n",
    "m_list = [i for i in range(1, m+1)] \n",
    "# print(m_list)\n",
    "E_list = [0 for i in range(m)] \n",
    "for i in range (1, m+1):\n",
    "    E = (i*i-i) / (2 * R) * (1-1/R) ** (i-2)\n",
    "    E_list[i-1] = E\n",
    "\n",
    "print(E_list[10])\n",
    "plt.title(\"m=2\")\n",
    "plt.plot(m_list,E_list)\n",
    "plt.plot(m_list_simu,E_list_simu, marker=\"o\", linestyle=\"None\")\n"
   ]
  },
  {
   "cell_type": "markdown",
   "id": "5300e6d1",
   "metadata": {},
   "source": [
    "## Simulation <-> Analytical (only 3STA -> success)"
   ]
  },
  {
   "cell_type": "code",
   "execution_count": 46,
   "id": "a44ed027",
   "metadata": {},
   "outputs": [
    {
     "name": "stdout",
     "output_type": "stream",
     "text": [
      "[0.019, 0.17, 0.482, 1.074, 1.929, 2.928, 3.994, 5.313, 6.547, 7.966, 9.162, 10.248, 11.556, 12.654, 13.599, 14.388, 15.138, 15.541, 16.16, 16.45]\n"
     ]
    }
   ],
   "source": [
    "R = 74\n",
    "\n",
    "m_list_simu = [10,20,30,40,50,60,70,80,90,100,110,120,130,140,150,160,170,180,190,200]\n",
    "\n",
    "run_times = 1000\n",
    "E_list_simu = [0 for i in range(20)]\n",
    "\n",
    "for idx, m_init in enumerate(m_list_simu):\n",
    "    total_s = 0\n",
    "    for _ in range(run_times):\n",
    "        m = m_init\n",
    "        R_arr = []\n",
    "        R_arr = [0 for i in range(R)]\n",
    "        while m > 0:\n",
    "            for i in range(R):\n",
    "                position = random.randint(0, R-1)\n",
    "                R_arr[position] += 1\n",
    "                m -= 1\n",
    "                if m <= 0:\n",
    "                    break\n",
    "        for balls in R_arr:\n",
    "            if balls == 3:\n",
    "                total_s += 1\n",
    "\n",
    "    E = total_s / run_times\n",
    "    E_list_simu[idx] = E\n",
    "\n",
    "print(E_list_simu)"
   ]
  },
  {
   "cell_type": "code",
   "execution_count": 47,
   "id": "f76eb374",
   "metadata": {
    "scrolled": true
   },
   "outputs": [
    {
     "data": {
      "text/plain": [
       "[<matplotlib.lines.Line2D at 0x7f79a03f1b80>]"
      ]
     },
     "execution_count": 47,
     "metadata": {},
     "output_type": "execute_result"
    },
    {
     "data": {
      "image/png": "[encoded data removed]",
      "text/plain": [
       "<Figure size 432x288 with 1 Axes>"
      ]
     },
     "metadata": {
      "needs_background": "light"
     },
     "output_type": "display_data"
    }
   ],
   "source": [
    "m = 200\n",
    "\n",
    "m_list = [i for i in range(1, m+1)] \n",
    "E_list = [0 for i in range(m)] \n",
    "\n",
    "# print(m_list)\n",
    "E_list = [0 for i in range(m)] \n",
    "for i in range (1, m+1):\n",
    "    E = (i * (i-1) * (i-2) / 6) * (1 / (R ** 2)) * (1-1/R) ** (i-3)\n",
    "    E_list[i-1] = E\n",
    "\n",
    "plt.title(\"m=3\")\n",
    "plt.plot(m_list,E_list)\n",
    "plt.plot(m_list_simu,E_list_simu, marker=\"o\", linestyle=\"None\")\n"
   ]
  },
  {
   "cell_type": "markdown",
   "id": "8e8759a6",
   "metadata": {},
   "source": [
    "## Simulation <-> Analytical (1 or 2 STA -> success)\n",
    "$E[s] = E_1[s] + E_2[s]$\n",
    "\n",
    "$E[s] = m * (1 - \\frac{1}{R})^{m-1} + (\\frac{m^2-m}{2R})(1 - \\frac{1}{R})^{m-2}$"
   ]
  },
  {
   "cell_type": "code",
   "execution_count": 21,
   "id": "e2af335a",
   "metadata": {},
   "outputs": [
    {
     "name": "stdout",
     "output_type": "stream",
     "text": [
      "[1.0, 1.895, 2.668, 3.321, 3.906, 4.376, 4.723, 5.023, 5.316, 5.423, 5.383, 4.668, 3.734, 2.769, 2.027, 1.434, 0.925, 0.66, 0.252, 0.12, 0.051, 0.016, 0.005, 0.003, 0.002, 0.0, 0.0, 0.0, 0.0, 0.0, 0.0, 0.0, 0.0]\n"
     ]
    }
   ],
   "source": [
    "R = 9\n",
    "\n",
    "m_list_simu = [1,2,3,4,5,6,7,8,9,10,15,20,25,30,35,40,45,50,60,70,80,90,100,110,120,130,140,150,160,170,180,190,200]\n",
    "# m_list_simu = [i for i in range(200)]\n",
    "run_times = 1000\n",
    "E_list_simu = [0 for i in range(len(m_list_simu))]\n",
    "\n",
    "for idx, m_init in enumerate(m_list_simu):\n",
    "    total_s = 0\n",
    "    for _ in range(run_times):\n",
    "        m = m_init\n",
    "        R_arr = []\n",
    "        R_arr = [0 for i in range(R)]\n",
    "        while m > 0:\n",
    "            for i in range(R):\n",
    "                position = int(random.random() * 1000000000000000 % R)\n",
    "                R_arr[position] += 1\n",
    "                m -= 1\n",
    "                if m <= 0:\n",
    "                    break\n",
    "        for balls in R_arr:\n",
    "            if balls == 1 or balls == 2:\n",
    "                total_s += 1\n",
    "\n",
    "    E = total_s / run_times\n",
    "    E_list_simu[idx] = E\n",
    "\n",
    "print(E_list_simu)"
   ]
  },
  {
   "cell_type": "code",
   "execution_count": 22,
   "id": "03e6afd7",
   "metadata": {},
   "outputs": [
    {
     "name": "stdout",
     "output_type": "stream",
     "text": [
      "5.504537389376714\n"
     ]
    },
    {
     "data": {
      "text/plain": [
       "[<matplotlib.lines.Line2D at 0x7f7970031e20>]"
      ]
     },
     "execution_count": 22,
     "metadata": {},
     "output_type": "execute_result"
    },
    {
     "data": {
      "image/png": "[encoded data removed]",
      "text/plain": [
       "<Figure size 432x288 with 1 Axes>"
      ]
     },
     "metadata": {
      "needs_background": "light"
     },
     "output_type": "display_data"
    }
   ],
   "source": [
    "m = 200\n",
    "R = 9\n",
    "\n",
    "m_list = [i for i in range(1, m+1)] \n",
    "# print(m_list)\n",
    "E_list = [0 for i in range(m)] \n",
    "for i in range (1, m+1):\n",
    "    # m=1 + m=2\n",
    "    E = ( i * (1-1/R) ** (i-1) ) + ( (i*i-i) / (2 * R) * (1-1/R) ** (i-2) )\n",
    "    E_list[i-1] = E\n",
    "\n",
    "print(E_list[10])\n",
    "# plt.title(\"m=1 or m=2\")\n",
    "plt.plot(m_list,E_list)\n",
    "plt.plot(m_list_simu,E_list_simu, marker=\"o\", linestyle=\"None\")\n"
   ]
  },
  {
   "cell_type": "code",
   "execution_count": null,
   "id": "856dbed9",
   "metadata": {},
   "outputs": [],
   "source": []
  },
  {
   "cell_type": "code",
   "execution_count": null,
   "id": "cce0ede8",
   "metadata": {},
   "outputs": [],
   "source": []
  },
  {
   "cell_type": "code",
   "execution_count": null,
   "id": "0b1aece9",
   "metadata": {},
   "outputs": [],
   "source": []
  }
 ],
 "metadata": {
  "kernelspec": {
   "display_name": "Python 3",
   "language": "python",
   "name": "python3"
  },
  "language_info": {
   "codemirror_mode": {
    "name": "ipython",
    "version": 3
   },
   "file_extension": ".py",
   "mimetype": "text/x-python",
   "name": "python",
   "nbconvert_exporter": "python",
   "pygments_lexer": "ipython3",
   "version": "3.8.8"
  }
 },
 "nbformat": 4,
 "nbformat_minor": 5
}

{
 "cells": [
  {
   "cell_type": "code",
   "execution_count": 1,
   "id": "920bbf9e",
   "metadata": {},
   "outputs": [],
   "source": [
    "import math\n",
    "import matplotlib.pyplot as plt\n",
    "# calculus\n",
    "import sympy as sym\n",
    "import random\n",
    "import numpy as np\n",
    "import time\n",
    "\n",
    "from scipy.special import gamma, gammaln\n",
    "from mpmath import mp, gamma\n",
    "mp.dps = 10  # You can set this to be high enough to handle the precision you need\n"
   ]
  },
  {
   "cell_type": "code",
   "execution_count": 2,
   "id": "fe9b6a26",
   "metadata": {},
   "outputs": [],
   "source": [
    "def comb_gamma (n,k):\n",
    "    result = gamma(mp.mpf(str(n+1))) / (gamma(mp.mpf(str(k+1))) * gamma(mp.mpf(str(n-k+1))))\n",
    "    return result\n",
    "\n",
    "def comb_2(n,k):\n",
    "    # k=2\n",
    "    result = n * (n-1) / 2\n",
    "    return result"
   ]
  },
  {
   "cell_type": "code",
   "execution_count": 3,
   "id": "ddd28b3d",
   "metadata": {},
   "outputs": [
    {
     "name": "stdout",
     "output_type": "stream",
     "text": [
      "13122564.38 13122564.375\n"
     ]
    }
   ],
   "source": [
    "a = comb_gamma(5123.5,2)\n",
    "b = comb_2(5123.5,2)\n",
    "print(a, b)"
   ]
  },
  {
   "cell_type": "code",
   "execution_count": null,
   "id": "59d468a6",
   "metadata": {},
   "outputs": [],
   "source": []
  }
 ],
 "metadata": {
  "kernelspec": {
   "display_name": "Python 3",
   "language": "python",
   "name": "python3"
  },
  "language_info": {
   "codemirror_mode": {
    "name": "ipython",
    "version": 3
   },
   "file_extension": ".py",
   "mimetype": "text/x-python",
   "name": "python",
   "nbconvert_exporter": "python",
   "pygments_lexer": "ipython3",
   "version": "3.8.8"
  }
 },
 "nbformat": 4,
 "nbformat_minor": 5
}

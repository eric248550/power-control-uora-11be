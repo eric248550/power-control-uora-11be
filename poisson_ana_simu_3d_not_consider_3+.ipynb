{
 "cells": [
  {
   "cell_type": "markdown",
   "id": "f687718a",
   "metadata": {},
   "source": [
    "## The number of RA-RUs that exact $x$ STA select \n",
    "$R_{x} \\approx  R \\frac{(\\frac{M}{R})^x e^{-\\frac{M}{R}}}{x!}$\n"
   ]
  },
  {
   "cell_type": "code",
   "execution_count": 28,
   "id": "103c027e",
   "metadata": {},
   "outputs": [],
   "source": [
    "import matplotlib.pyplot as plt\n",
    "import random\n",
    "import numpy as np\n",
    "import math\n",
    "from mpl_toolkits.mplot3d import Axes3D\n",
    "from matplotlib.colors import ListedColormap, BoundaryNorm\n",
    "from matplotlib.colors import LinearSegmentedColormap\n"
   ]
  },
  {
   "cell_type": "markdown",
   "id": "21b5c48a",
   "metadata": {},
   "source": [
    "### Simulation"
   ]
  },
  {
   "cell_type": "code",
   "execution_count": 29,
   "id": "d88fb639",
   "metadata": {},
   "outputs": [],
   "source": [
    "def simulation(R, M, run_times):\n",
    "    balls_record = [0 for _ in range(M+1)]\n",
    "    for _ in range(run_times):\n",
    "        for m in range(1,M):\n",
    "            R_arr = [0 for i in range(R)]\n",
    "            for _ in range(M):\n",
    "                position = random.randint(0, R-1)\n",
    "                R_arr[position] += 1\n",
    "            for balls in R_arr:\n",
    "                balls_record[balls] += 1                   \n",
    "    balls_record_avg = [x/run_times for x in balls_record]\n",
    "    return balls_record_avg"
   ]
  },
  {
   "cell_type": "code",
   "execution_count": 44,
   "id": "b189d4b9",
   "metadata": {},
   "outputs": [],
   "source": [
    "def simulation(R, M, run_times):\n",
    "    balls_record = [0 for _ in range(M+1)]\n",
    "    for _ in range(run_times):\n",
    "        for m in range(1,M):\n",
    "            R_arr = [0 for i in range(R)]\n",
    "            for _ in range(M):\n",
    "                position = random.randint(0, R-1)\n",
    "                R_arr[position] += 1\n",
    "            for balls in R_arr:\n",
    "                balls_record[balls] += 1                   \n",
    "    balls_record_avg = [x/run_times for x in balls_record]\n",
    "    return sum(balls_record_avg)\n",
    "#     return len(balls_record_avg)\n"
   ]
  },
  {
   "cell_type": "code",
   "execution_count": 45,
   "id": "9353d988",
   "metadata": {},
   "outputs": [
    {
     "data": {
      "text/plain": [
       "89.99999999999999"
      ]
     },
     "execution_count": 45,
     "metadata": {},
     "output_type": "execute_result"
    }
   ],
   "source": [
    "simulation(R=10,M=10, run_times=1000)"
   ]
  },
  {
   "cell_type": "markdown",
   "id": "fdb31fee",
   "metadata": {},
   "source": [
    "### Analytical"
   ]
  },
  {
   "cell_type": "code",
   "execution_count": 46,
   "id": "591d2ac8",
   "metadata": {},
   "outputs": [],
   "source": [
    "def analytical(R, M):\n",
    "    zero_ball_box = R * ((M/R) ** 0) * math.exp(-M/R) / math.factorial(0)\n",
    "    one_ball_box = R * ((M/R) ** 1) * math.exp(-M/R) / math.factorial(1)\n",
    "    two_ball_box = R * ((M/R) ** 2) * math.exp(-M/R) / math.factorial(2)\n",
    "#     print(f'zero_ball_box={zero_ball_box}, one_ball_box={one_ball_box}, two_ball_box={two_ball_box}')\n",
    "#     return one_ball_box + two_ball_box\n",
    "    return zero_ball_box + one_ball_box + two_ball_box\n"
   ]
  },
  {
   "cell_type": "code",
   "execution_count": 47,
   "id": "25f5585c",
   "metadata": {},
   "outputs": [],
   "source": [
    "def getApproxError(ana_value, simu_value):\n",
    "    return abs(ana_value - simu_value) / ana_value * 100"
   ]
  },
  {
   "cell_type": "code",
   "execution_count": 51,
   "id": "2ac7b6d3",
   "metadata": {},
   "outputs": [
    {
     "ename": "KeyboardInterrupt",
     "evalue": "",
     "output_type": "error",
     "traceback": [
      "\u001b[0;31m---------------------------------------------------------------------------\u001b[0m",
      "\u001b[0;31mKeyboardInterrupt\u001b[0m                         Traceback (most recent call last)",
      "\u001b[0;32m<ipython-input-51-e65d3d50882c>\u001b[0m in \u001b[0;36m<module>\u001b[0;34m\u001b[0m\n\u001b[1;32m     17\u001b[0m     \u001b[0;32mfor\u001b[0m \u001b[0mj\u001b[0m\u001b[0;34m,\u001b[0m \u001b[0mM\u001b[0m \u001b[0;32min\u001b[0m \u001b[0menumerate\u001b[0m\u001b[0;34m(\u001b[0m\u001b[0mMs\u001b[0m\u001b[0;34m)\u001b[0m\u001b[0;34m:\u001b[0m\u001b[0;34m\u001b[0m\u001b[0;34m\u001b[0m\u001b[0m\n\u001b[1;32m     18\u001b[0m         \u001b[0mana_value\u001b[0m \u001b[0;34m=\u001b[0m \u001b[0manalytical\u001b[0m\u001b[0;34m(\u001b[0m\u001b[0mR\u001b[0m\u001b[0;34m,\u001b[0m \u001b[0mM\u001b[0m\u001b[0;34m)\u001b[0m\u001b[0;34m\u001b[0m\u001b[0;34m\u001b[0m\u001b[0m\n\u001b[0;32m---> 19\u001b[0;31m         \u001b[0msimu_value\u001b[0m \u001b[0;34m=\u001b[0m \u001b[0msimulation\u001b[0m\u001b[0;34m(\u001b[0m\u001b[0mR\u001b[0m\u001b[0;34m,\u001b[0m \u001b[0mM\u001b[0m\u001b[0;34m,\u001b[0m \u001b[0mrun_times\u001b[0m\u001b[0;34m)\u001b[0m\u001b[0;34m\u001b[0m\u001b[0;34m\u001b[0m\u001b[0m\n\u001b[0m\u001b[1;32m     20\u001b[0m \u001b[0;31m#         simu_value = R\u001b[0m\u001b[0;34m\u001b[0m\u001b[0;34m\u001b[0m\u001b[0;34m\u001b[0m\u001b[0m\n\u001b[1;32m     21\u001b[0m         \u001b[0merror_mesh\u001b[0m\u001b[0;34m[\u001b[0m\u001b[0mi\u001b[0m\u001b[0;34m,\u001b[0m \u001b[0mj\u001b[0m\u001b[0;34m]\u001b[0m \u001b[0;34m=\u001b[0m \u001b[0mgetApproxError\u001b[0m\u001b[0;34m(\u001b[0m\u001b[0mana_value\u001b[0m\u001b[0;34m,\u001b[0m \u001b[0msimu_value\u001b[0m\u001b[0;34m)\u001b[0m\u001b[0;34m\u001b[0m\u001b[0;34m\u001b[0m\u001b[0m\n",
      "\u001b[0;32m<ipython-input-44-c7406915b901>\u001b[0m in \u001b[0;36msimulation\u001b[0;34m(R, M, run_times)\u001b[0m\n\u001b[1;32m      5\u001b[0m             \u001b[0mR_arr\u001b[0m \u001b[0;34m=\u001b[0m \u001b[0;34m[\u001b[0m\u001b[0;36m0\u001b[0m \u001b[0;32mfor\u001b[0m \u001b[0mi\u001b[0m \u001b[0;32min\u001b[0m \u001b[0mrange\u001b[0m\u001b[0;34m(\u001b[0m\u001b[0mR\u001b[0m\u001b[0;34m)\u001b[0m\u001b[0;34m]\u001b[0m\u001b[0;34m\u001b[0m\u001b[0;34m\u001b[0m\u001b[0m\n\u001b[1;32m      6\u001b[0m             \u001b[0;32mfor\u001b[0m \u001b[0m_\u001b[0m \u001b[0;32min\u001b[0m \u001b[0mrange\u001b[0m\u001b[0;34m(\u001b[0m\u001b[0mM\u001b[0m\u001b[0;34m)\u001b[0m\u001b[0;34m:\u001b[0m\u001b[0;34m\u001b[0m\u001b[0;34m\u001b[0m\u001b[0m\n\u001b[0;32m----> 7\u001b[0;31m                 \u001b[0mposition\u001b[0m \u001b[0;34m=\u001b[0m \u001b[0mrandom\u001b[0m\u001b[0;34m.\u001b[0m\u001b[0mrandint\u001b[0m\u001b[0;34m(\u001b[0m\u001b[0;36m0\u001b[0m\u001b[0;34m,\u001b[0m \u001b[0mR\u001b[0m\u001b[0;34m-\u001b[0m\u001b[0;36m1\u001b[0m\u001b[0;34m)\u001b[0m\u001b[0;34m\u001b[0m\u001b[0;34m\u001b[0m\u001b[0m\n\u001b[0m\u001b[1;32m      8\u001b[0m                 \u001b[0mR_arr\u001b[0m\u001b[0;34m[\u001b[0m\u001b[0mposition\u001b[0m\u001b[0;34m]\u001b[0m \u001b[0;34m+=\u001b[0m \u001b[0;36m1\u001b[0m\u001b[0;34m\u001b[0m\u001b[0;34m\u001b[0m\u001b[0m\n\u001b[1;32m      9\u001b[0m             \u001b[0;32mfor\u001b[0m \u001b[0mballs\u001b[0m \u001b[0;32min\u001b[0m \u001b[0mR_arr\u001b[0m\u001b[0;34m:\u001b[0m\u001b[0;34m\u001b[0m\u001b[0;34m\u001b[0m\u001b[0m\n",
      "\u001b[0;32m~/opt/anaconda3/lib/python3.8/random.py\u001b[0m in \u001b[0;36mrandint\u001b[0;34m(self, a, b)\u001b[0m\n\u001b[1;32m    246\u001b[0m         \"\"\"\n\u001b[1;32m    247\u001b[0m \u001b[0;34m\u001b[0m\u001b[0m\n\u001b[0;32m--> 248\u001b[0;31m         \u001b[0;32mreturn\u001b[0m \u001b[0mself\u001b[0m\u001b[0;34m.\u001b[0m\u001b[0mrandrange\u001b[0m\u001b[0;34m(\u001b[0m\u001b[0ma\u001b[0m\u001b[0;34m,\u001b[0m \u001b[0mb\u001b[0m\u001b[0;34m+\u001b[0m\u001b[0;36m1\u001b[0m\u001b[0;34m)\u001b[0m\u001b[0;34m\u001b[0m\u001b[0;34m\u001b[0m\u001b[0m\n\u001b[0m\u001b[1;32m    249\u001b[0m \u001b[0;34m\u001b[0m\u001b[0m\n\u001b[1;32m    250\u001b[0m     \u001b[0;32mdef\u001b[0m \u001b[0m_randbelow_with_getrandbits\u001b[0m\u001b[0;34m(\u001b[0m\u001b[0mself\u001b[0m\u001b[0;34m,\u001b[0m \u001b[0mn\u001b[0m\u001b[0;34m)\u001b[0m\u001b[0;34m:\u001b[0m\u001b[0;34m\u001b[0m\u001b[0;34m\u001b[0m\u001b[0m\n",
      "\u001b[0;32m~/opt/anaconda3/lib/python3.8/random.py\u001b[0m in \u001b[0;36mrandrange\u001b[0;34m(self, start, stop, step, _int)\u001b[0m\n\u001b[1;32m    222\u001b[0m         \u001b[0mwidth\u001b[0m \u001b[0;34m=\u001b[0m \u001b[0mistop\u001b[0m \u001b[0;34m-\u001b[0m \u001b[0mistart\u001b[0m\u001b[0;34m\u001b[0m\u001b[0;34m\u001b[0m\u001b[0m\n\u001b[1;32m    223\u001b[0m         \u001b[0;32mif\u001b[0m \u001b[0mstep\u001b[0m \u001b[0;34m==\u001b[0m \u001b[0;36m1\u001b[0m \u001b[0;32mand\u001b[0m \u001b[0mwidth\u001b[0m \u001b[0;34m>\u001b[0m \u001b[0;36m0\u001b[0m\u001b[0;34m:\u001b[0m\u001b[0;34m\u001b[0m\u001b[0;34m\u001b[0m\u001b[0m\n\u001b[0;32m--> 224\u001b[0;31m             \u001b[0;32mreturn\u001b[0m \u001b[0mistart\u001b[0m \u001b[0;34m+\u001b[0m \u001b[0mself\u001b[0m\u001b[0;34m.\u001b[0m\u001b[0m_randbelow\u001b[0m\u001b[0;34m(\u001b[0m\u001b[0mwidth\u001b[0m\u001b[0;34m)\u001b[0m\u001b[0;34m\u001b[0m\u001b[0;34m\u001b[0m\u001b[0m\n\u001b[0m\u001b[1;32m    225\u001b[0m         \u001b[0;32mif\u001b[0m \u001b[0mstep\u001b[0m \u001b[0;34m==\u001b[0m \u001b[0;36m1\u001b[0m\u001b[0;34m:\u001b[0m\u001b[0;34m\u001b[0m\u001b[0;34m\u001b[0m\u001b[0m\n\u001b[1;32m    226\u001b[0m             \u001b[0;32mraise\u001b[0m \u001b[0mValueError\u001b[0m\u001b[0;34m(\u001b[0m\u001b[0;34m\"empty range for randrange() (%d, %d, %d)\"\u001b[0m \u001b[0;34m%\u001b[0m \u001b[0;34m(\u001b[0m\u001b[0mistart\u001b[0m\u001b[0;34m,\u001b[0m \u001b[0mistop\u001b[0m\u001b[0;34m,\u001b[0m \u001b[0mwidth\u001b[0m\u001b[0;34m)\u001b[0m\u001b[0;34m)\u001b[0m\u001b[0;34m\u001b[0m\u001b[0;34m\u001b[0m\u001b[0m\n",
      "\u001b[0;32m~/opt/anaconda3/lib/python3.8/random.py\u001b[0m in \u001b[0;36m_randbelow_with_getrandbits\u001b[0;34m(self, n)\u001b[0m\n\u001b[1;32m    251\u001b[0m         \u001b[0;34m\"Return a random int in the range [0,n).  Raises ValueError if n==0.\"\u001b[0m\u001b[0;34m\u001b[0m\u001b[0;34m\u001b[0m\u001b[0m\n\u001b[1;32m    252\u001b[0m \u001b[0;34m\u001b[0m\u001b[0m\n\u001b[0;32m--> 253\u001b[0;31m         \u001b[0mgetrandbits\u001b[0m \u001b[0;34m=\u001b[0m \u001b[0mself\u001b[0m\u001b[0;34m.\u001b[0m\u001b[0mgetrandbits\u001b[0m\u001b[0;34m\u001b[0m\u001b[0;34m\u001b[0m\u001b[0m\n\u001b[0m\u001b[1;32m    254\u001b[0m         \u001b[0mk\u001b[0m \u001b[0;34m=\u001b[0m \u001b[0mn\u001b[0m\u001b[0;34m.\u001b[0m\u001b[0mbit_length\u001b[0m\u001b[0;34m(\u001b[0m\u001b[0;34m)\u001b[0m  \u001b[0;31m# don't use (n-1) here because n can be 1\u001b[0m\u001b[0;34m\u001b[0m\u001b[0;34m\u001b[0m\u001b[0m\n\u001b[1;32m    255\u001b[0m         \u001b[0mr\u001b[0m \u001b[0;34m=\u001b[0m \u001b[0mgetrandbits\u001b[0m\u001b[0;34m(\u001b[0m\u001b[0mk\u001b[0m\u001b[0;34m)\u001b[0m          \u001b[0;31m# 0 <= r < 2**k\u001b[0m\u001b[0;34m\u001b[0m\u001b[0;34m\u001b[0m\u001b[0m\n",
      "\u001b[0;31mKeyboardInterrupt\u001b[0m: "
     ]
    }
   ],
   "source": [
    "# Setting ranges for M and R\n",
    "# Ms = range(1, 1000)  # Range of M values\n",
    "# Ms = [(i*10) for i in range(1,51)]\n",
    "Ms = [(i+1) for i in range(500)]\n",
    "# Rs = range(1, 200)  # Range of R values\n",
    "# Rs = [(i*10) for i in range(1,21)]\n",
    "Rs = [(i+1) for i in range(200)]\n",
    "x = 1   # Given x value\n",
    "run_times = 1000  # Number of simulations per combination\n",
    "\n",
    "# Preparing the grid\n",
    "M_mesh, R_mesh = np.meshgrid(Ms, Rs)\n",
    "error_mesh = np.zeros_like(M_mesh, dtype=float)\n",
    "\n",
    "# Calculating errors for each combination of M and R\n",
    "for i, R in enumerate(Rs):\n",
    "    for j, M in enumerate(Ms):\n",
    "        ana_value = analytical(R, M)\n",
    "        simu_value = simulation(R, M, run_times)\n",
    "#         simu_value = R\n",
    "        error_mesh[i, j] = getApproxError(ana_value, simu_value)"
   ]
  },
  {
   "cell_type": "code",
   "execution_count": null,
   "id": "712b7c27",
   "metadata": {
    "scrolled": false
   },
   "outputs": [],
   "source": [
    "capped_error_mesh = np.copy(error_mesh)\n",
    "\n",
    "capped_error_mesh[capped_error_mesh > 100] = 100\n",
    "\n",
    "# Color Bar\n",
    "colors = ['green', 'yellow', 'orange', 'red']\n",
    "# bounds = [0, 5, 10, 50, 100]  # Define boundaries for the colors\n",
    "bounds = [0, 1, 2, 3, 100]  # Define boundaries for the colors\n",
    "\n",
    "custom_cmap = ListedColormap(colors)\n",
    "norm = BoundaryNorm(bounds, custom_cmap.N)\n",
    "\n",
    "fig = plt.figure(figsize=(12, 8), dpi=150)\n",
    "ax = fig.add_subplot(111, projection='3d')\n",
    "surf = ax.plot_surface(R_mesh, M_mesh, capped_error_mesh, cmap=custom_cmap, norm=norm, edgecolor='none')\n",
    "\n",
    "\n",
    "ax.set_xlabel('R (number of bins)')\n",
    "ax.set_ylabel('M (number of balls)')\n",
    "ax.set_zlabel('Approximation Error (%)')\n",
    "ax.set_title('Approximation Error for not consider the box have more than 3 balls')\n",
    "fig.colorbar(surf, shrink=0.5, aspect=5)  # Color bar for error magnitude\n",
    "# fig.colorbar(surf, boundaries=bounds, shrink=0.5, aspect=5)  # Add custom colorbar\n",
    "\n",
    "ax.set_zlim(0, 100)\n",
    "\n",
    "plt.show()"
   ]
  },
  {
   "cell_type": "code",
   "execution_count": null,
   "id": "97d9c089",
   "metadata": {
    "scrolled": false
   },
   "outputs": [],
   "source": [
    "capped_error_mesh = np.copy(error_mesh)\n",
    "\n",
    "capped_error_mesh[capped_error_mesh > 100] = 100\n",
    "\n",
    "# Color Bar\n",
    "# colors = ['green', 'yellow', 'orange', 'red']\n",
    "colors = ['green', 'blue', 'purple', 'yellow', 'orange', 'red']\n",
    "# bounds = [0, 5, 10, 50, 100]  # Define boundaries for the colors\n",
    "bounds = [0, 1, 2, 5, 8, 10, 100]  # Define boundaries for the colors\n",
    "custom_cmap = ListedColormap(colors)\n",
    "norm = BoundaryNorm(bounds, custom_cmap.N)\n",
    "\n",
    "fig = plt.figure(figsize=(12, 8), dpi=150)\n",
    "ax = fig.add_subplot(111, projection='3d')\n",
    "surf = ax.plot_surface(R_mesh, M_mesh, capped_error_mesh, cmap=custom_cmap, norm=norm, edgecolor='none')\n",
    "\n",
    "\n",
    "ax.set_xlabel('R (number of bins)')\n",
    "ax.set_ylabel('M (number of balls)')\n",
    "ax.set_zlabel('Approximation Error (%)')\n",
    "ax.set_title('Approximation Error for not consider the box have more than 3 balls')\n",
    "\n",
    "ax.set_zlim(0, 100)\n",
    "\n",
    "# Create colorbar with custom ticks and labels\n",
    "cbar = fig.colorbar(surf, shrink=0.5, aspect=5)\n",
    "cbar.set_ticks([0, 1, 2, 5, 8, 10, 100])  # Set ticks to match your bounds\n",
    "cbar.set_ticklabels(['0', '1', '2', '5', '8', '10', '>10'])  # Replace \"100\" with \"10+\" for display\n",
    "\n",
    "\n",
    "plt.show()"
   ]
  },
  {
   "cell_type": "code",
   "execution_count": null,
   "id": "a96c9048",
   "metadata": {},
   "outputs": [],
   "source": []
  },
  {
   "cell_type": "code",
   "execution_count": null,
   "id": "4d16677e",
   "metadata": {},
   "outputs": [],
   "source": []
  },
  {
   "cell_type": "code",
   "execution_count": null,
   "id": "db68c307",
   "metadata": {},
   "outputs": [],
   "source": []
  },
  {
   "cell_type": "code",
   "execution_count": null,
   "id": "33ce03fb",
   "metadata": {},
   "outputs": [],
   "source": []
  }
 ],
 "metadata": {
  "kernelspec": {
   "display_name": "Python 3",
   "language": "python",
   "name": "python3"
  },
  "language_info": {
   "codemirror_mode": {
    "name": "ipython",
    "version": 3
   },
   "file_extension": ".py",
   "mimetype": "text/x-python",
   "name": "python",
   "nbconvert_exporter": "python",
   "pygments_lexer": "ipython3",
   "version": "3.8.8"
  }
 },
 "nbformat": 4,
 "nbformat_minor": 5
}

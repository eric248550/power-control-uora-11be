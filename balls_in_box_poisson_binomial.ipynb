{
 "cells": [
  {
   "cell_type": "markdown",
   "id": "0d682ffb",
   "metadata": {},
   "source": [
    "## Parameters \n",
    "- M = number of balls\n",
    "- R = number of bins"
   ]
  },
  {
   "cell_type": "code",
   "execution_count": 1,
   "id": "103c027e",
   "metadata": {},
   "outputs": [],
   "source": [
    "import matplotlib.pyplot as plt\n",
    "import random\n",
    "import math\n",
    "import numpy as np"
   ]
  },
  {
   "cell_type": "markdown",
   "id": "1c00c65f",
   "metadata": {},
   "source": [
    "$R \\frac{\\left(\\frac{M}{R}\\right)^x e^{-\\frac{M}{R}}}{x!}$"
   ]
  },
  {
   "cell_type": "code",
   "execution_count": 6,
   "id": "48fc28eb",
   "metadata": {},
   "outputs": [],
   "source": [
    "def Binomial(M, R, x):\n",
    "    if M >= x:\n",
    "        return R * (math.factorial(M) / math.factorial(x) / math.factorial(M-x)) * ((1/R)**x) * ((1-1/R)**(M-x))\n",
    "    else:\n",
    "        return 0\n",
    "\n",
    "def Poisson(M, R, x):\n",
    "    return R * ((M / R) ** x) * math.exp(-M/R) / math.factorial(x)"
   ]
  },
  {
   "cell_type": "code",
   "execution_count": 7,
   "id": "f34131d6",
   "metadata": {},
   "outputs": [],
   "source": [
    "def getAna_Simu_ApproxError(R, x):\n",
    "    # 1, 2, ... 10, 20, 30, ... 100, 200, 300, ... 1000\n",
    "    m_list_simu = np.concatenate([np.arange(1, 11, 1), np.arange(20, 110, 10), np.arange(200, 1100, 100)])\n",
    "    result_arr_simu = [0 for i in range(28)]\n",
    "    for idx, m in enumerate(m_list_simu):\n",
    "        result_arr_simu[idx] = Binomial(M=m, R=R, x=x)\n",
    "\n",
    "    m_list_ana = [i+1 for i in range(1000)]\n",
    "    result_arr_ana = [0 for i in range(1000)]\n",
    "\n",
    "    for idx, m in enumerate(m_list_ana):\n",
    "        result_arr_ana[idx] = Poisson(M=m, R=R, x=x)\n",
    "        \n",
    "    approx_error = [0 for i in range(len(m_list_simu))]\n",
    "    for idx, m in enumerate(m_list_simu):\n",
    "#         approx_error[idx] = abs((result_arr_simu[idx] - result_arr_ana[m-1]) / R) * 100\n",
    "        approx_error[idx] = abs((result_arr_simu[idx] - result_arr_ana[m-1]) / R) * 100\n",
    "    \n",
    "    return(result_arr_ana, result_arr_simu, approx_error)"
   ]
  },
  {
   "cell_type": "code",
   "execution_count": 8,
   "id": "7b0707bc",
   "metadata": {},
   "outputs": [],
   "source": [
    "def getAna_Simu_ApproxError_With_R(x, M, sample):\n",
    "    # 10, 20,... R\n",
    "    R_list_simu = [10,20,30,40,50,60,70,80,90,100]\n",
    "    result_arr_simu = [0 for i in range(10)]\n",
    "    for idx, R in enumerate(R_list_simu):\n",
    "        x_cnt = 0\n",
    "        for i in range(sample):\n",
    "            x_cnt += simu(M=M, R=R, x=x)\n",
    "        result_arr_simu[idx] = x_cnt / sample\n",
    "\n",
    "    R_list_ana = [i+1 for i in range(100)]\n",
    "    result_arr_ana = [0 for i in range(100)]\n",
    "\n",
    "    for idx, R in enumerate(R_list_ana):\n",
    "        result_arr_ana[idx] = ana(M=M, R=R, x=x)\n",
    "        \n",
    "    approx_error = [0 for i in range(len(R_list_simu))]\n",
    "    for idx, m in enumerate(R_list_simu):\n",
    "#         approx_error[idx] = abs((result_arr_simu[idx] - result_arr_ana[m-1]) / R) * 100\n",
    "        approx_error[idx] = abs((result_arr_simu[idx] - result_arr_ana[m-1]) / R) * 100\n",
    "    \n",
    "    return(result_arr_ana, result_arr_simu, approx_error)\n"
   ]
  },
  {
   "cell_type": "code",
   "execution_count": 9,
   "id": "ebea44be",
   "metadata": {},
   "outputs": [
    {
     "ename": "OverflowError",
     "evalue": "integer division result too large for a float",
     "output_type": "error",
     "traceback": [
      "\u001b[0;31m---------------------------------------------------------------------------\u001b[0m",
      "\u001b[0;31mOverflowError\u001b[0m                             Traceback (most recent call last)",
      "\u001b[0;32m<ipython-input-9-c30b888b695e>\u001b[0m in \u001b[0;36m<module>\u001b[0;34m\u001b[0m\n\u001b[1;32m      1\u001b[0m \u001b[0;32mfor\u001b[0m \u001b[0mx\u001b[0m \u001b[0;32min\u001b[0m \u001b[0;34m[\u001b[0m\u001b[0;36m1\u001b[0m\u001b[0;34m,\u001b[0m\u001b[0;36m2\u001b[0m\u001b[0;34m]\u001b[0m\u001b[0;34m:\u001b[0m\u001b[0;34m\u001b[0m\u001b[0;34m\u001b[0m\u001b[0m\n\u001b[1;32m      2\u001b[0m     \u001b[0;32mfor\u001b[0m \u001b[0mR\u001b[0m \u001b[0;32min\u001b[0m \u001b[0;34m[\u001b[0m\u001b[0;36m9\u001b[0m\u001b[0;34m,\u001b[0m\u001b[0;36m18\u001b[0m\u001b[0;34m,\u001b[0m\u001b[0;36m74\u001b[0m\u001b[0;34m,\u001b[0m\u001b[0;36m148\u001b[0m\u001b[0;34m]\u001b[0m\u001b[0;34m:\u001b[0m\u001b[0;34m\u001b[0m\u001b[0;34m\u001b[0m\u001b[0m\n\u001b[0;32m----> 3\u001b[0;31m         \u001b[0mresult_arr_ana\u001b[0m\u001b[0;34m,\u001b[0m \u001b[0mresult_arr_simu\u001b[0m\u001b[0;34m,\u001b[0m \u001b[0mapprox_error\u001b[0m \u001b[0;34m=\u001b[0m \u001b[0mgetAna_Simu_ApproxError\u001b[0m\u001b[0;34m(\u001b[0m\u001b[0mR\u001b[0m\u001b[0;34m=\u001b[0m\u001b[0mR\u001b[0m\u001b[0;34m,\u001b[0m \u001b[0mx\u001b[0m\u001b[0;34m=\u001b[0m\u001b[0mx\u001b[0m\u001b[0;34m)\u001b[0m\u001b[0;34m\u001b[0m\u001b[0;34m\u001b[0m\u001b[0m\n\u001b[0m\u001b[1;32m      4\u001b[0m \u001b[0;34m\u001b[0m\u001b[0m\n\u001b[1;32m      5\u001b[0m         \u001b[0;31m# Create a figure and a primary axis\u001b[0m\u001b[0;34m\u001b[0m\u001b[0;34m\u001b[0m\u001b[0;34m\u001b[0m\u001b[0m\n",
      "\u001b[0;32m<ipython-input-7-f4ca136f3b81>\u001b[0m in \u001b[0;36mgetAna_Simu_ApproxError\u001b[0;34m(R, x)\u001b[0m\n\u001b[1;32m      4\u001b[0m     \u001b[0mresult_arr_simu\u001b[0m \u001b[0;34m=\u001b[0m \u001b[0;34m[\u001b[0m\u001b[0;36m0\u001b[0m \u001b[0;32mfor\u001b[0m \u001b[0mi\u001b[0m \u001b[0;32min\u001b[0m \u001b[0mrange\u001b[0m\u001b[0;34m(\u001b[0m\u001b[0;36m28\u001b[0m\u001b[0;34m)\u001b[0m\u001b[0;34m]\u001b[0m\u001b[0;34m\u001b[0m\u001b[0;34m\u001b[0m\u001b[0m\n\u001b[1;32m      5\u001b[0m     \u001b[0;32mfor\u001b[0m \u001b[0midx\u001b[0m\u001b[0;34m,\u001b[0m \u001b[0mm\u001b[0m \u001b[0;32min\u001b[0m \u001b[0menumerate\u001b[0m\u001b[0;34m(\u001b[0m\u001b[0mm_list_simu\u001b[0m\u001b[0;34m)\u001b[0m\u001b[0;34m:\u001b[0m\u001b[0;34m\u001b[0m\u001b[0;34m\u001b[0m\u001b[0m\n\u001b[0;32m----> 6\u001b[0;31m         \u001b[0mresult_arr_simu\u001b[0m\u001b[0;34m[\u001b[0m\u001b[0midx\u001b[0m\u001b[0;34m]\u001b[0m \u001b[0;34m=\u001b[0m \u001b[0mBinomial\u001b[0m\u001b[0;34m(\u001b[0m\u001b[0mM\u001b[0m\u001b[0;34m=\u001b[0m\u001b[0mm\u001b[0m\u001b[0;34m,\u001b[0m \u001b[0mR\u001b[0m\u001b[0;34m=\u001b[0m\u001b[0mR\u001b[0m\u001b[0;34m,\u001b[0m \u001b[0mx\u001b[0m\u001b[0;34m=\u001b[0m\u001b[0mx\u001b[0m\u001b[0;34m)\u001b[0m\u001b[0;34m\u001b[0m\u001b[0;34m\u001b[0m\u001b[0m\n\u001b[0m\u001b[1;32m      7\u001b[0m \u001b[0;34m\u001b[0m\u001b[0m\n\u001b[1;32m      8\u001b[0m     \u001b[0mm_list_ana\u001b[0m \u001b[0;34m=\u001b[0m \u001b[0;34m[\u001b[0m\u001b[0mi\u001b[0m\u001b[0;34m+\u001b[0m\u001b[0;36m1\u001b[0m \u001b[0;32mfor\u001b[0m \u001b[0mi\u001b[0m \u001b[0;32min\u001b[0m \u001b[0mrange\u001b[0m\u001b[0;34m(\u001b[0m\u001b[0;36m1000\u001b[0m\u001b[0;34m)\u001b[0m\u001b[0;34m]\u001b[0m\u001b[0;34m\u001b[0m\u001b[0;34m\u001b[0m\u001b[0m\n",
      "\u001b[0;32m<ipython-input-6-fafc81f4cce8>\u001b[0m in \u001b[0;36mBinomial\u001b[0;34m(M, R, x)\u001b[0m\n\u001b[1;32m      1\u001b[0m \u001b[0;32mdef\u001b[0m \u001b[0mBinomial\u001b[0m\u001b[0;34m(\u001b[0m\u001b[0mM\u001b[0m\u001b[0;34m,\u001b[0m \u001b[0mR\u001b[0m\u001b[0;34m,\u001b[0m \u001b[0mx\u001b[0m\u001b[0;34m)\u001b[0m\u001b[0;34m:\u001b[0m\u001b[0;34m\u001b[0m\u001b[0;34m\u001b[0m\u001b[0m\n\u001b[1;32m      2\u001b[0m     \u001b[0;32mif\u001b[0m \u001b[0mM\u001b[0m \u001b[0;34m>\u001b[0m \u001b[0mx\u001b[0m\u001b[0;34m:\u001b[0m\u001b[0;34m\u001b[0m\u001b[0;34m\u001b[0m\u001b[0m\n\u001b[0;32m----> 3\u001b[0;31m         \u001b[0;32mreturn\u001b[0m \u001b[0mR\u001b[0m \u001b[0;34m*\u001b[0m \u001b[0;34m(\u001b[0m\u001b[0mmath\u001b[0m\u001b[0;34m.\u001b[0m\u001b[0mfactorial\u001b[0m\u001b[0;34m(\u001b[0m\u001b[0mM\u001b[0m\u001b[0;34m)\u001b[0m \u001b[0;34m/\u001b[0m \u001b[0mmath\u001b[0m\u001b[0;34m.\u001b[0m\u001b[0mfactorial\u001b[0m\u001b[0;34m(\u001b[0m\u001b[0mx\u001b[0m\u001b[0;34m)\u001b[0m \u001b[0;34m/\u001b[0m \u001b[0mmath\u001b[0m\u001b[0;34m.\u001b[0m\u001b[0mfactorial\u001b[0m\u001b[0;34m(\u001b[0m\u001b[0mM\u001b[0m\u001b[0;34m-\u001b[0m\u001b[0mx\u001b[0m\u001b[0;34m)\u001b[0m\u001b[0;34m)\u001b[0m \u001b[0;34m*\u001b[0m \u001b[0;34m(\u001b[0m\u001b[0;34m(\u001b[0m\u001b[0;36m1\u001b[0m\u001b[0;34m/\u001b[0m\u001b[0mR\u001b[0m\u001b[0;34m)\u001b[0m\u001b[0;34m**\u001b[0m\u001b[0mx\u001b[0m\u001b[0;34m)\u001b[0m \u001b[0;34m*\u001b[0m \u001b[0;34m(\u001b[0m\u001b[0;34m(\u001b[0m\u001b[0;36m1\u001b[0m\u001b[0;34m-\u001b[0m\u001b[0;36m1\u001b[0m\u001b[0;34m/\u001b[0m\u001b[0mR\u001b[0m\u001b[0;34m)\u001b[0m\u001b[0;34m**\u001b[0m\u001b[0;34m(\u001b[0m\u001b[0mM\u001b[0m\u001b[0;34m-\u001b[0m\u001b[0mx\u001b[0m\u001b[0;34m)\u001b[0m\u001b[0;34m)\u001b[0m\u001b[0;34m\u001b[0m\u001b[0;34m\u001b[0m\u001b[0m\n\u001b[0m\u001b[1;32m      4\u001b[0m     \u001b[0;32melse\u001b[0m\u001b[0;34m:\u001b[0m\u001b[0;34m\u001b[0m\u001b[0;34m\u001b[0m\u001b[0m\n\u001b[1;32m      5\u001b[0m         \u001b[0;32mreturn\u001b[0m \u001b[0;36m0\u001b[0m\u001b[0;34m\u001b[0m\u001b[0;34m\u001b[0m\u001b[0m\n",
      "\u001b[0;31mOverflowError\u001b[0m: integer division result too large for a float"
     ]
    }
   ],
   "source": [
    "for x in [1,2]:\n",
    "    for R in [9,18,74,148]:\n",
    "        result_arr_ana, result_arr_simu, approx_error = getAna_Simu_ApproxError(R=R, x=x)\n",
    "\n",
    "        # Create a figure and a primary axis\n",
    "        fig, ax1 = plt.subplots()\n",
    "        \n",
    "        ax1.set_xscale('log')\n",
    "        \n",
    "        ax1.plot(m_list_ana, result_arr_ana, label='Poisson Approx result')\n",
    "        ax1.plot(m_list_simu, result_arr_simu, marker=\"o\", linestyle=\"None\", label='Simulation result')\n",
    "\n",
    "        ax1.set_xlabel(\"Number of Balls\", fontsize = 14)\n",
    "        ax1.set_ylabel(f'E[number of bins have {x} balls]', fontsize = 14)\n",
    "#         plt.legend(loc='center right', bbox_to_anchor=(0.9, 1.8), fontsize = 12)\n",
    "\n",
    "        ax2 = ax1.twinx()\n",
    "        ax2.plot(m_list_simu, approx_error, linestyle=\"--\", color='g', label='approx error')\n",
    "        ax2.set_ylabel(f'Approx Error (%)', color='g', fontsize = 14)\n",
    "        ax2.set_ylim([0, 10])\n",
    "\n",
    "        plt.title(f'put {x} ball in {R} bins')\n",
    "        plt.show()"
   ]
  },
  {
   "cell_type": "code",
   "execution_count": 10,
   "id": "d0b1485b",
   "metadata": {},
   "outputs": [
    {
     "ename": "NameError",
     "evalue": "name 'simu' is not defined",
     "output_type": "error",
     "traceback": [
      "\u001b[0;31m---------------------------------------------------------------------------\u001b[0m",
      "\u001b[0;31mNameError\u001b[0m                                 Traceback (most recent call last)",
      "\u001b[0;32m<ipython-input-10-b2a0f8a8781c>\u001b[0m in \u001b[0;36m<module>\u001b[0;34m\u001b[0m\n\u001b[1;32m      2\u001b[0m     \u001b[0mR_list_ana\u001b[0m \u001b[0;34m=\u001b[0m \u001b[0;34m[\u001b[0m\u001b[0mi\u001b[0m\u001b[0;34m+\u001b[0m\u001b[0;36m1\u001b[0m \u001b[0;32mfor\u001b[0m \u001b[0mi\u001b[0m \u001b[0;32min\u001b[0m \u001b[0mrange\u001b[0m\u001b[0;34m(\u001b[0m\u001b[0;36m100\u001b[0m\u001b[0;34m)\u001b[0m\u001b[0;34m]\u001b[0m\u001b[0;34m\u001b[0m\u001b[0;34m\u001b[0m\u001b[0m\n\u001b[1;32m      3\u001b[0m     \u001b[0mR_list_simu\u001b[0m \u001b[0;34m=\u001b[0m \u001b[0;34m[\u001b[0m\u001b[0;36m10\u001b[0m\u001b[0;34m,\u001b[0m\u001b[0;36m20\u001b[0m\u001b[0;34m,\u001b[0m\u001b[0;36m30\u001b[0m\u001b[0;34m,\u001b[0m\u001b[0;36m40\u001b[0m\u001b[0;34m,\u001b[0m\u001b[0;36m50\u001b[0m\u001b[0;34m,\u001b[0m\u001b[0;36m60\u001b[0m\u001b[0;34m,\u001b[0m\u001b[0;36m70\u001b[0m\u001b[0;34m,\u001b[0m\u001b[0;36m80\u001b[0m\u001b[0;34m,\u001b[0m\u001b[0;36m90\u001b[0m\u001b[0;34m,\u001b[0m\u001b[0;36m100\u001b[0m\u001b[0;34m]\u001b[0m\u001b[0;34m\u001b[0m\u001b[0;34m\u001b[0m\u001b[0m\n\u001b[0;32m----> 4\u001b[0;31m     \u001b[0mresult_arr_ana\u001b[0m\u001b[0;34m,\u001b[0m \u001b[0mresult_arr_simu\u001b[0m\u001b[0;34m,\u001b[0m \u001b[0mapprox_error\u001b[0m \u001b[0;34m=\u001b[0m \u001b[0mgetAna_Simu_ApproxError_With_R\u001b[0m\u001b[0;34m(\u001b[0m\u001b[0mM\u001b[0m\u001b[0;34m=\u001b[0m\u001b[0;36m100\u001b[0m\u001b[0;34m,\u001b[0m \u001b[0mx\u001b[0m\u001b[0;34m=\u001b[0m\u001b[0mx\u001b[0m\u001b[0;34m,\u001b[0m \u001b[0msample\u001b[0m\u001b[0;34m=\u001b[0m\u001b[0;36m1000\u001b[0m\u001b[0;34m)\u001b[0m\u001b[0;34m\u001b[0m\u001b[0;34m\u001b[0m\u001b[0m\n\u001b[0m\u001b[1;32m      5\u001b[0m \u001b[0;34m\u001b[0m\u001b[0m\n\u001b[1;32m      6\u001b[0m     \u001b[0;31m# Create a figure and a primary axis\u001b[0m\u001b[0;34m\u001b[0m\u001b[0;34m\u001b[0m\u001b[0;34m\u001b[0m\u001b[0m\n",
      "\u001b[0;32m<ipython-input-8-7b66d4c26439>\u001b[0m in \u001b[0;36mgetAna_Simu_ApproxError_With_R\u001b[0;34m(x, M, sample)\u001b[0m\n\u001b[1;32m      6\u001b[0m         \u001b[0mx_cnt\u001b[0m \u001b[0;34m=\u001b[0m \u001b[0;36m0\u001b[0m\u001b[0;34m\u001b[0m\u001b[0;34m\u001b[0m\u001b[0m\n\u001b[1;32m      7\u001b[0m         \u001b[0;32mfor\u001b[0m \u001b[0mi\u001b[0m \u001b[0;32min\u001b[0m \u001b[0mrange\u001b[0m\u001b[0;34m(\u001b[0m\u001b[0msample\u001b[0m\u001b[0;34m)\u001b[0m\u001b[0;34m:\u001b[0m\u001b[0;34m\u001b[0m\u001b[0;34m\u001b[0m\u001b[0m\n\u001b[0;32m----> 8\u001b[0;31m             \u001b[0mx_cnt\u001b[0m \u001b[0;34m+=\u001b[0m \u001b[0msimu\u001b[0m\u001b[0;34m(\u001b[0m\u001b[0mM\u001b[0m\u001b[0;34m=\u001b[0m\u001b[0mM\u001b[0m\u001b[0;34m,\u001b[0m \u001b[0mR\u001b[0m\u001b[0;34m=\u001b[0m\u001b[0mR\u001b[0m\u001b[0;34m,\u001b[0m \u001b[0mx\u001b[0m\u001b[0;34m=\u001b[0m\u001b[0mx\u001b[0m\u001b[0;34m)\u001b[0m\u001b[0;34m\u001b[0m\u001b[0;34m\u001b[0m\u001b[0m\n\u001b[0m\u001b[1;32m      9\u001b[0m         \u001b[0mresult_arr_simu\u001b[0m\u001b[0;34m[\u001b[0m\u001b[0midx\u001b[0m\u001b[0;34m]\u001b[0m \u001b[0;34m=\u001b[0m \u001b[0mx_cnt\u001b[0m \u001b[0;34m/\u001b[0m \u001b[0msample\u001b[0m\u001b[0;34m\u001b[0m\u001b[0;34m\u001b[0m\u001b[0m\n\u001b[1;32m     10\u001b[0m \u001b[0;34m\u001b[0m\u001b[0m\n",
      "\u001b[0;31mNameError\u001b[0m: name 'simu' is not defined"
     ]
    }
   ],
   "source": [
    "for x in [1,2]:\n",
    "    R_list_ana = [i+1 for i in range(100)]\n",
    "    R_list_simu = [10,20,30,40,50,60,70,80,90,100]\n",
    "    result_arr_ana, result_arr_simu, approx_error = getAna_Simu_ApproxError_With_R(M=100, x=x, sample=1000)\n",
    "\n",
    "    # Create a figure and a primary axis\n",
    "    fig, ax1 = plt.subplots()\n",
    "\n",
    "    ax1.plot(R_list_ana, result_arr_ana, label='Poisson Approx result')\n",
    "    ax1.plot(R_list_simu, result_arr_simu, marker=\"o\", linestyle=\"None\", label='Simulation result')\n",
    "\n",
    "    ax1.set_xlabel(\"Number of Balls\", fontsize = 14)\n",
    "    ax1.set_ylabel(f'E[number of bins have {x} balls]', fontsize = 14)\n",
    "#         plt.legend(loc='center right', bbox_to_anchor=(0.9, 1.8), fontsize = 12)\n",
    "\n",
    "    ax2 = ax1.twinx()\n",
    "    ax2.plot(R_list_simu, approx_error, linestyle=\"--\", color='g', label='approx error')\n",
    "    ax2.set_ylabel(f'Approx Error (%)', color='g', fontsize = 14)\n",
    "    ax2.set_ylim([0, 10])\n",
    "\n",
    "    plt.title(f'put {x} ball in {R} bins')\n",
    "    plt.show()"
   ]
  },
  {
   "cell_type": "code",
   "execution_count": null,
   "id": "e934b6e1",
   "metadata": {},
   "outputs": [],
   "source": []
  },
  {
   "cell_type": "code",
   "execution_count": null,
   "id": "4edf1175",
   "metadata": {},
   "outputs": [],
   "source": []
  },
  {
   "cell_type": "code",
   "execution_count": null,
   "id": "da532270",
   "metadata": {},
   "outputs": [],
   "source": []
  },
  {
   "cell_type": "code",
   "execution_count": null,
   "id": "a6a4ed71",
   "metadata": {},
   "outputs": [],
   "source": []
  }
 ],
 "metadata": {
  "kernelspec": {
   "display_name": "Python 3",
   "language": "python",
   "name": "python3"
  },
  "language_info": {
   "codemirror_mode": {
    "name": "ipython",
    "version": 3
   },
   "file_extension": ".py",
   "mimetype": "text/x-python",
   "name": "python",
   "nbconvert_exporter": "python",
   "pygments_lexer": "ipython3",
   "version": "3.8.8"
  }
 },
 "nbformat": 4,
 "nbformat_minor": 5
}

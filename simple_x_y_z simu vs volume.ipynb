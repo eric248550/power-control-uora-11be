{
 "cells": [
  {
   "cell_type": "markdown",
   "id": "e6561e8a",
   "metadata": {},
   "source": [
    "## Parameters \n",
    "$P_r(\\frac{X}{Y+Z} > k)$ when $X,Y,Z$ ~ $U(0,r)$"
   ]
  },
  {
   "cell_type": "code",
   "execution_count": 346,
   "id": "103c027e",
   "metadata": {},
   "outputs": [],
   "source": [
    "import matplotlib.pyplot as plt\n",
    "import random\n",
    "import math\n",
    "import numpy as np\n",
    "\n"
   ]
  },
  {
   "cell_type": "code",
   "execution_count": 347,
   "id": "d19f5098",
   "metadata": {},
   "outputs": [],
   "source": [
    "def simu(r, k):\n",
    "    x = random.uniform(0, r)\n",
    "    y = random.uniform(0, r)\n",
    "    z = random.uniform(0, r)\n",
    "    \n",
    "#     if x / (y+z) > 10 ** (C/10):\n",
    "    if x / (y+z) > k:\n",
    "        return True\n",
    "    else:\n",
    "        return False"
   ]
  },
  {
   "cell_type": "markdown",
   "id": "54da4d28",
   "metadata": {},
   "source": [
    "$\\frac{1}{(10^{C/10})^2}$"
   ]
  },
  {
   "cell_type": "code",
   "execution_count": 348,
   "id": "8e062a98",
   "metadata": {},
   "outputs": [],
   "source": [
    "def ana(k):\n",
    "    return 1 / (k ** 2) / 6\n",
    "#     return 1 / ((10 ** (C/10)) ** 2) / 6\n"
   ]
  },
  {
   "cell_type": "code",
   "execution_count": 362,
   "id": "e0409949",
   "metadata": {},
   "outputs": [
    {
     "name": "stdout",
     "output_type": "stream",
     "text": [
      "[0.16566, 0.04109, 0.01902, 0.01079, 0.0065, 0.00438, 0.00353, 0.00282, 0.00211, 0.00165]\n",
      "[0.16666666666666666, 0.041666666666666664, 0.018518518518518517, 0.010416666666666666, 0.006666666666666667, 0.004629629629629629, 0.003401360544217687, 0.0026041666666666665, 0.0020576131687242796, 0.0016666666666666668]\n"
     ]
    },
    {
     "data": {
      "image/png": "[encoded data removed]",
      "text/plain": [
       "<Figure size 432x288 with 1 Axes>"
      ]
     },
     "metadata": {
      "needs_background": "light"
     },
     "output_type": "display_data"
    }
   ],
   "source": [
    "sample = 10 ** 5\n",
    "r = 5\n",
    "\n",
    "result_list_simu = [ 0 for _ in range(10)]\n",
    "result_list_ana = [ 0 for _ in range(10)]\n",
    "\n",
    "\n",
    "for k in range(1,11):\n",
    "    cnt = 0\n",
    "    for _ in range(sample):\n",
    "        result = simu(r, k)\n",
    "        if result:\n",
    "            cnt += 1\n",
    "    result_list_simu[k-1] = cnt/sample\n",
    "    result_list_ana[k-1] = ana(k)\n",
    "    \n",
    "#     print(f'Simulation result: {cnt/sample}')\n",
    "#     print(f'Formula result: {ana(k)}')\n",
    "\n",
    "print(result_list_simu)\n",
    "print(result_list_ana)\n",
    "\n",
    "plt.plot([ i for i in range(1,11)], result_list_simu, label='simulation', linestyle='None', marker='o', markerfacecolor='None', markeredgecolor='black', markersize=5)\n",
    "plt.plot([ i for i in range(1,11)], result_list_ana, linestyle = '--', color='black', label='Formula')\n",
    "\n",
    "\n",
    "plt.title('$P_r(X/(Y+Z) > k)$ when $X,Y,Z$ ~ $U(0,r)$', fontsize = 18)\n",
    "plt.xlabel(\"$k$\", fontsize = 14)\n",
    "plt.ylabel('$P_r(X/(Y+Z) > k)$', fontsize = 14)\n",
    "plt.grid(True, which=\"both\")\n",
    "plt.legend(loc='center right', bbox_to_anchor=(1.7, 0.5), fontsize = 12)\n",
    "# plt.axis([10,sta_max,0.1,1.1]) #x spacing,x max, y spcaing, y max\n",
    "# plt.rcParams[\"figure.figsize\"] = (8,6)\n",
    "# plt.xticks(M_ticks)\n",
    "# plt.yticks(fontsize = 14)\n",
    "plt.show()\n"
   ]
  },
  {
   "cell_type": "code",
   "execution_count": null,
   "id": "a7eb70c5",
   "metadata": {},
   "outputs": [],
   "source": []
  },
  {
   "cell_type": "code",
   "execution_count": null,
   "id": "ac930a8d",
   "metadata": {},
   "outputs": [],
   "source": []
  }
 ],
 "metadata": {
  "kernelspec": {
   "display_name": "Python 3",
   "language": "python",
   "name": "python3"
  },
  "language_info": {
   "codemirror_mode": {
    "name": "ipython",
    "version": 3
   },
   "file_extension": ".py",
   "mimetype": "text/x-python",
   "name": "python",
   "nbconvert_exporter": "python",
   "pygments_lexer": "ipython3",
   "version": "3.8.8"
  }
 },
 "nbformat": 4,
 "nbformat_minor": 5
}

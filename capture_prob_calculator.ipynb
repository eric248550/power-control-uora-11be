{
 "cells": [
  {
   "cell_type": "code",
   "execution_count": 1,
   "id": "ce828567",
   "metadata": {},
   "outputs": [],
   "source": [
    "import math\n",
    "# calculus\n",
    "import sympy as sym\n",
    "import random\n",
    "import matplotlib.pyplot as plt\n",
    "import numpy as np"
   ]
  },
  {
   "cell_type": "markdown",
   "id": "5d640bbe",
   "metadata": {},
   "source": [
    "# Analytical (Geometric)"
   ]
  },
  {
   "cell_type": "code",
   "execution_count": 2,
   "id": "e65fc366",
   "metadata": {
    "scrolled": true
   },
   "outputs": [
    {
     "name": "stdout",
     "output_type": "stream",
     "text": [
      "[0.8849642044515256, 0.7739634835364259, 0.5732484103897482]\n"
     ]
    }
   ],
   "source": [
    "# Pr is the ratio for P1/P2 (when Capture ratio is 3, Pr is sqrt(2))\n",
    "CR_list = [1.5, 3, 6]\n",
    "\n",
    "Pr_list = [10 ** (x / 10) for x in CR_list]\n",
    "\n",
    "\n",
    "x, y= sym.symbols('x y')\n",
    "\n",
    "# Px_list is the transmit power of x, have 4 levels\n",
    "Px_list = [1, 2, 4, 8]\n",
    "# Py_list is the transmit power of y, have 4 levels\n",
    "Py_list = [1, 2, 4, 8]\n",
    "\n",
    "result_ana = [0, 0, 0]\n",
    "draw_ana = [[], [], []]\n",
    "# total is the Accumulate probability for not being capture (need to divide by all possibilities)\n",
    "# 3 scenario for geometric method\n",
    "for idx, Pr in enumerate(Pr_list):\n",
    "    total = 0\n",
    "    result = 0\n",
    "    for Px in Px_list:\n",
    "        for Py in Py_list:\n",
    "            # Calculate the slope for 2 lines so that we can know which scenario\n",
    "            slope_1 = math.sqrt(Py * Pr / Px)\n",
    "            slope_2 = math.sqrt(Py / (Px * Pr))\n",
    "            \n",
    "            if slope_1 > 1 and slope_2 < 1:\n",
    "                result = (1 / math.sqrt(Pr * Py / Px) / 2) + (math.sqrt(Py / (Pr * Px)) / 2)\n",
    "            elif slope_1 > 1 and slope_2 >= 1:\n",
    "                result = 1 - (1 / math.sqrt(Py / (Pr * Px)) - 1 / math.sqrt(Pr * Py / Px)) / 2\n",
    "            elif slope_1 <= 1 and slope_2 < 1:\n",
    "                result = 1 - (math.sqrt(Pr * Py / Px) - math.sqrt(Py / (Pr * Px))) / 2\n",
    "#             print(f'Pr: {Pr}, Px: {Px}, Py: {Py}, result: {result}')\n",
    "            \n",
    "            draw_ana[idx].append((Px, Py, result))\n",
    "            total += result\n",
    "    result_ana[idx] = total / 16\n",
    "\n",
    "print(result_ana)"
   ]
  },
  {
   "cell_type": "markdown",
   "id": "f0725969",
   "metadata": {},
   "source": [
    "# Analytical (Calculus)"
   ]
  },
  {
   "cell_type": "code",
   "execution_count": 3,
   "id": "9e219220",
   "metadata": {},
   "outputs": [
    {
     "name": "stdout",
     "output_type": "stream",
     "text": [
      "[0.884578122445788, 0.773207521472478, 0.571978151840597]\n"
     ]
    }
   ],
   "source": [
    "# Pr is the ratio for P1/P2 (when Capture ratio is 3, Pr is sqrt(2))\n",
    "# Pr = math.sqrt(2)\n",
    "Pr_list = [math.sqrt(2), 2, 4]\n",
    "# Pr = 4\n",
    "\n",
    "\n",
    "x, y= sym.symbols('x y')\n",
    "\n",
    "# Px_list is the transmit power of x, have 4 levels\n",
    "Px_list = [1, 2, 4, 8]\n",
    "# Py_list is the transmit power of y, have 4 levels\n",
    "Py_list = [1, 2, 4, 8]\n",
    "\n",
    "result_ana = [0, 0, 0]\n",
    "draw_ana = [[], [], []]\n",
    "# total is the Accumulate probability for not being capture (need to divide by all possibilities)\n",
    "# 3 scenario for geometric method\n",
    "for idx, Pr in enumerate(Pr_list):\n",
    "    total = 0\n",
    "    result = 0\n",
    "    for Px in Px_list:\n",
    "        for Py in Py_list:\n",
    "            # Calculate the slope for 2 lines so that we can know which scenario\n",
    "            slope_1 = math.sqrt(Py * Pr / Px)\n",
    "            slope_2 = math.sqrt(Py / (Px * Pr))\n",
    "\n",
    "            if slope_1 > 1 and slope_2 > 1:\n",
    "                x_lower_bound_1 = 0\n",
    "                x_upper_bound_1 = 1 / (math.sqrt(Py * Pr / Px))\n",
    "                integrand_1 = math.sqrt(Py * Pr / Px) * x - math.sqrt(Py / (Pr * Px)) * x\n",
    "\n",
    "                x_lower_bound_2 = 1 / (math.sqrt(Py * Pr / Px))\n",
    "                x_upper_bound_2 = 1 / (math.sqrt(Py / (Pr * Px)))\n",
    "                integrand_2 = 1 - math.sqrt(Py / (Pr * Px)) * x\n",
    "\n",
    "                region_1 = sym.integrate(integrand_1, (x, x_lower_bound_1, x_upper_bound_1))\n",
    "                region_2 = sym.integrate(integrand_2, (x, x_lower_bound_2, x_upper_bound_2))\n",
    "\n",
    "                result = region_1 + region_2\n",
    "#             elif slope_1 > 1 and slope_2 < 1:\n",
    "            elif slope_1 > 1 and slope_2 <= 1:\n",
    "                x_lower_bound_1 = 0\n",
    "                x_upper_bound_1 = 1 / (math.sqrt(Py * Pr / Px))\n",
    "                integrand_1 = math.sqrt(Py * Pr / Px) * x - math.sqrt(Py / (Pr * Px)) * x\n",
    "\n",
    "                x_lower_bound_2 = 1 / (math.sqrt(Py * Pr / Px))\n",
    "                x_upper_bound_2 = 1\n",
    "                integrand_2 = 1 - math.sqrt(Py / (Pr * Px)) * x\n",
    "\n",
    "                region_1 = sym.integrate(integrand_1, (x, x_lower_bound_1, x_upper_bound_1))\n",
    "                region_2 = sym.integrate(integrand_2, (x, x_lower_bound_2, x_upper_bound_2))\n",
    "\n",
    "                result = region_1 + region_2\n",
    "#             elif slope_1 < 1 and slope_2 < 1:\n",
    "            elif slope_1 <= 1 and slope_2 < 1:\n",
    "                x_lower_bound = 0\n",
    "                x_upper_bound = 1\n",
    "                integrand = math.sqrt(Py * Pr / Px) * x - math.sqrt(Py / (Pr * Px)) * x\n",
    "\n",
    "                region = sym.integrate(integrand, (x, x_lower_bound, x_upper_bound))\n",
    "\n",
    "                result = region\n",
    "#             print(f'Px: {Px}, Py: {Py}, result: {1 - result}')\n",
    "            \n",
    "            draw_ana[idx].append((Px, Py, 1 - result))\n",
    "            total += result\n",
    "    result_ana[idx] = 1 - total / 16\n",
    "\n",
    "print(result_ana)"
   ]
  },
  {
   "cell_type": "markdown",
   "id": "34e42b10",
   "metadata": {},
   "source": [
    "# Simulation"
   ]
  },
  {
   "cell_type": "code",
   "execution_count": 8,
   "id": "610c93da",
   "metadata": {},
   "outputs": [
    {
     "name": "stdout",
     "output_type": "stream",
     "text": [
      "[0.88475125, 0.7725925, 0.5729956249999999]\n"
     ]
    }
   ],
   "source": [
    "# How many sample\n",
    "samples = 10000\n",
    "# total is the Accumulate probability for not being capture (need to divide by all possibilities)\n",
    "result_simu = [0, 0, 0]\n",
    "draw_simu = [[], [], []]\n",
    "\n",
    "for idx, Pr in enumerate(Pr_list):\n",
    "    total = 0\n",
    "    for Px in Px_list:\n",
    "        for Py in Py_list:\n",
    "            count_successful = 0\n",
    "            for _ in range(samples):\n",
    "                x = random.uniform(0, 1)\n",
    "                y = random.uniform(0, 1)\n",
    "                # in the range of 1/Pr and Pr cannot be captured\n",
    "                if 1 / Pr < (Px / (x**2)) / (Py / (y**2)) < Pr:\n",
    "                    count_successful += 1\n",
    "\n",
    "            result = count_successful / samples\n",
    "            total += result\n",
    "#             print(f'Px: {Px}, Py: {Py}, result: {result}')\n",
    "            draw_simu[idx].append((Px, Py, 1 - result))\n",
    "            \n",
    "    result_simu[idx] = 1 - total / 16\n",
    "print(result_simu)"
   ]
  },
  {
   "cell_type": "code",
   "execution_count": 5,
   "id": "1b61caca",
   "metadata": {},
   "outputs": [
    {
     "data": {
      "image/png": "[encoded data removed]",
      "text/plain": [
       "<Figure size 720x432 with 1 Axes>"
      ]
     },
     "metadata": {
      "needs_background": "light"
     },
     "output_type": "display_data"
    }
   ],
   "source": [
    "# Extract values\n",
    "Px_values = [entry[0] for entry in draw_ana[0]]\n",
    "Py_values = [entry[1] for entry in draw_ana[0]]\n",
    "result_values_ana = [entry[2] for entry in draw_ana[0]]\n",
    "result_values_simu = [entry[2] for entry in draw_simu[0]]\n",
    "\n",
    "# Set the positions for the bars\n",
    "x = np.arange(len(result_values_ana))\n",
    "\n",
    "# Set the width of the bars\n",
    "width = 0.35\n",
    "\n",
    "# Create the side-by-side bar plot\n",
    "plt.figure(figsize=(10, 6))\n",
    "plt.bar(x - width/2, result_values_ana, width, label='Analytical')\n",
    "plt.bar(x + width/2, result_values_simu, width, label='Simulation')\n",
    "plt.xlabel('Combination of $P_{t_1}$ and $P_{t_2}$')\n",
    "plt.ylabel('Capture Probability')\n",
    "plt.title('Capture Probability CR=1.5')\n",
    "plt.xticks(x, [f'Px: {Px}, Py: {Py}' for Px, Py in zip(Px_values, Py_values)], rotation=45, ha=\"right\")\n",
    "plt.legend()\n",
    "plt.show()"
   ]
  },
  {
   "cell_type": "code",
   "execution_count": 6,
   "id": "479d59e5",
   "metadata": {},
   "outputs": [
    {
     "data": {
      "image/png": "[encoded data removed]",
      "text/plain": [
       "<Figure size 720x432 with 1 Axes>"
      ]
     },
     "metadata": {
      "needs_background": "light"
     },
     "output_type": "display_data"
    }
   ],
   "source": [
    "# Extract values\n",
    "Px_values = [entry[0] for entry in draw_ana[1]]\n",
    "Py_values = [entry[1] for entry in draw_ana[1]]\n",
    "result_values_ana = [entry[2] for entry in draw_ana[1]]\n",
    "result_values_simu = [entry[2] for entry in draw_simu[1]]\n",
    "\n",
    "# Set the positions for the bars\n",
    "x = np.arange(len(result_values_ana))\n",
    "\n",
    "# Set the width of the bars\n",
    "width = 0.35\n",
    "\n",
    "# Create the side-by-side bar plot\n",
    "plt.figure(figsize=(10, 6))\n",
    "plt.bar(x - width/2, result_values_ana, width, label='Analytical')\n",
    "plt.bar(x + width/2, result_values_simu, width, label='Simulation')\n",
    "plt.xlabel('Combination of $P_{t_1}$ and $P_{t_2}$')\n",
    "plt.ylabel('Capture Probability')\n",
    "plt.title('Capture Probability CR=3')\n",
    "plt.xticks(x, [f'$P_{{t_1}}$: {Px}, $P_{{t_1}}$: {Py}' for Px, Py in zip(Px_values, Py_values)], rotation=45, ha=\"right\")\n",
    "plt.legend()\n",
    "plt.show()"
   ]
  },
  {
   "cell_type": "code",
   "execution_count": 7,
   "id": "97309a53",
   "metadata": {},
   "outputs": [
    {
     "data": {
      "image/png": "[encoded data removed]",
      "text/plain": [
       "<Figure size 720x432 with 1 Axes>"
      ]
     },
     "metadata": {
      "needs_background": "light"
     },
     "output_type": "display_data"
    }
   ],
   "source": [
    "# Extract values\n",
    "Px_values = [entry[0] for entry in draw_ana[2]]\n",
    "Py_values = [entry[1] for entry in draw_ana[2]]\n",
    "result_values_ana = [entry[2] for entry in draw_ana[2]]\n",
    "result_values_simu = [entry[2] for entry in draw_simu[2]]\n",
    "\n",
    "# Set the positions for the bars\n",
    "x = np.arange(len(result_values_ana))\n",
    "\n",
    "# Set the width of the bars\n",
    "width = 0.35\n",
    "\n",
    "# Create the side-by-side bar plot\n",
    "plt.figure(figsize=(10, 6))\n",
    "plt.bar(x - width/2, result_values_ana, width, label='Analytical')\n",
    "plt.bar(x + width/2, result_values_simu, width, label='Simulation')\n",
    "plt.xlabel('Combination of $P_{t_1}$ and $P_{t_2}$')\n",
    "plt.ylabel('Capture Probability')\n",
    "plt.title('Capture Probability CR=6')\n",
    "plt.xticks(x, [f'$P_{{t_1}}$: {Px}, $P_{{t_1}}$: {Py}' for Px, Py in zip(Px_values, Py_values)], rotation=45, ha=\"right\")\n",
    "plt.legend()\n",
    "plt.show()"
   ]
  }
 ],
 "metadata": {
  "kernelspec": {
   "display_name": "Python 3",
   "language": "python",
   "name": "python3"
  },
  "language_info": {
   "codemirror_mode": {
    "name": "ipython",
    "version": 3
   },
   "file_extension": ".py",
   "mimetype": "text/x-python",
   "name": "python",
   "nbconvert_exporter": "python",
   "pygments_lexer": "ipython3",
   "version": "3.8.8"
  }
 },
 "nbformat": 4,
 "nbformat_minor": 5
}
